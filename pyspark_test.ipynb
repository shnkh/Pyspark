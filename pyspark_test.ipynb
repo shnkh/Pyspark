{
 "cells": [
  {
   "cell_type": "code",
   "execution_count": 1,
   "metadata": {},
   "outputs": [],
   "source": [
    "import pyspark"
   ]
  },
  {
   "cell_type": "code",
   "execution_count": 2,
   "metadata": {},
   "outputs": [],
   "source": [
    "import pandas as pd"
   ]
  },
  {
   "cell_type": "code",
   "execution_count": 3,
   "metadata": {},
   "outputs": [],
   "source": [
    "import pyspark\n",
    "from pyspark.sql.functions import *\n",
    "from pyspark.sql import SparkSession\n",
    "from pyspark.sql import Row\n",
    "import pyspark.sql.functions as sf\n",
    "appName= \"hive_pyspark\"\n",
    "master= \"local\""
   ]
  },
  {
   "cell_type": "markdown",
   "metadata": {},
   "source": [
    "## create sparksession"
   ]
  },
  {
   "cell_type": "code",
   "execution_count": 4,
   "metadata": {},
   "outputs": [],
   "source": [
    "from pyspark.sql import SparkSession"
   ]
  },
  {
   "cell_type": "code",
   "execution_count": 59,
   "metadata": {},
   "outputs": [],
   "source": [
    "#spark=SparkSession.builder.appName('Dataframe').getOrCreate()"
   ]
  },
  {
   "cell_type": "code",
   "execution_count": 60,
   "metadata": {},
   "outputs": [],
   "source": [
    "#spark"
   ]
  },
  {
   "cell_type": "code",
   "execution_count": 5,
   "metadata": {},
   "outputs": [
    {
     "name": "stderr",
     "output_type": "stream",
     "text": [
      "22/04/04 12:04:23 WARN Utils: Your hostname, easebuzz-Inspiron-3501 resolves to a loopback address: 127.0.1.1; using 10.10.2.6 instead (on interface wlp0s20f3)\n",
      "22/04/04 12:04:23 WARN Utils: Set SPARK_LOCAL_IP if you need to bind to another address\n",
      "WARNING: An illegal reflective access operation has occurred\n",
      "WARNING: Illegal reflective access by org.apache.spark.unsafe.Platform (file:/home/easebuzz/.local/lib/python3.7/site-packages/pyspark/jars/spark-unsafe_2.12-3.2.1.jar) to constructor java.nio.DirectByteBuffer(long,int)\n",
      "WARNING: Please consider reporting this to the maintainers of org.apache.spark.unsafe.Platform\n",
      "WARNING: Use --illegal-access=warn to enable warnings of further illegal reflective access operations\n",
      "WARNING: All illegal access operations will be denied in a future release\n",
      "Using Spark's default log4j profile: org/apache/spark/log4j-defaults.properties\n",
      "Setting default log level to \"WARN\".\n",
      "To adjust logging level use sc.setLogLevel(newLevel). For SparkR, use setLogLevel(newLevel).\n",
      "22/04/04 12:04:23 WARN NativeCodeLoader: Unable to load native-hadoop library for your platform... using builtin-java classes where applicable\n"
     ]
    }
   ],
   "source": [
    "spark = SparkSession.builder.master(master).appName(appName).enableHiveSupport().getOrCreate()"
   ]
  },
  {
   "cell_type": "code",
   "execution_count": 6,
   "metadata": {},
   "outputs": [
    {
     "name": "stderr",
     "output_type": "stream",
     "text": [
      "22/04/04 12:04:31 WARN HiveConf: HiveConf of name hive.stats.jdbc.timeout does not exist\n",
      "22/04/04 12:04:31 WARN HiveConf: HiveConf of name hive.stats.retries.wait does not exist\n",
      "22/04/04 12:04:34 WARN ObjectStore: Version information not found in metastore. hive.metastore.schema.verification is not enabled so recording the schema version 2.3.0\n",
      "22/04/04 12:04:34 WARN ObjectStore: setMetaStoreSchemaVersion called but recording version is disabled: version = 2.3.0, comment = Set by MetaStore easebuzz@127.0.1.1\n"
     ]
    },
    {
     "name": "stdout",
     "output_type": "stream",
     "text": [
      "+---------+\n",
      "|namespace|\n",
      "+---------+\n",
      "|  default|\n",
      "+---------+\n",
      "\n"
     ]
    }
   ],
   "source": [
    "df=spark.sql(\"show databases\")\n",
    "df.show()"
   ]
  },
  {
   "cell_type": "code",
   "execution_count": 63,
   "metadata": {},
   "outputs": [
    {
     "name": "stdout",
     "output_type": "stream",
     "text": [
      "+----------------+----------+-----------------------+------------+---------+----------+--------------+---------+--------------------+--------------------+\n",
      "|Transaction Date|Value Date|Transaction Discription|Referance No|Debit Amt|Credit Amt|   Running Bal|Bank-name|           file-name|       date_ingested|\n",
      "+----------------+----------+-----------------------+------------+---------+----------+--------------+---------+--------------------+--------------------+\n",
      "|01-12-2021 06:10|01-12-2021|   NEFT/000214522423...|        null|     3.72|      null|2,47,97,607.12| RBL-Bank|s3://reconcilatio...|2022-03-11 19:17:...|\n",
      "|01-12-2021 06:10|01-12-2021|   NEFT/000214522442...|        null|     7.46|      null|2,47,97,599.66| RBL-Bank|s3://reconcilatio...|2022-03-11 19:17:...|\n",
      "|01-12-2021 06:10|01-12-2021|   NEFT/000214522424...|        null|     11.2|      null|2,47,97,588.46| RBL-Bank|s3://reconcilatio...|2022-03-11 19:17:...|\n",
      "|01-12-2021 06:10|01-12-2021|   NEFT/000214522466...|        null| 3,000.00|      null|2,47,94,588.46| RBL-Bank|s3://reconcilatio...|2022-03-11 19:17:...|\n",
      "|01-12-2021 06:10|01-12-2021|   NEFT/000214522469...|        null|     11.2|      null|2,47,94,577.26| RBL-Bank|s3://reconcilatio...|2022-03-11 19:17:...|\n",
      "+----------------+----------+-----------------------+------------+---------+----------+--------------+---------+--------------------+--------------------+\n",
      "only showing top 5 rows\n",
      "\n"
     ]
    }
   ],
   "source": [
    "datafile=spark.read.csv(\"/media/easebuzz/DATA/Code/raw_files/Rbl_processed.csv\",header=True)\n",
    "datafile.show(5)\n",
    "#datafile.write.saveAsTable(\"test_table\")"
   ]
  },
  {
   "cell_type": "code",
   "execution_count": 64,
   "metadata": {},
   "outputs": [],
   "source": [
    "#converting dataframe perticular column to a list\n",
    "list1=([data[0] for data in datafile.select('Transaction Discription').collect()])"
   ]
  },
  {
   "cell_type": "code",
   "execution_count": 65,
   "metadata": {},
   "outputs": [],
   "source": [
    "\n",
    "df2 = datafile.where(\n",
    "    datafile['Transaction Discription'].rlike(\"|\".join([\"(\" + pat + \")\" for pat in list1]))\n",
    ")"
   ]
  },
  {
   "cell_type": "code",
   "execution_count": 66,
   "metadata": {},
   "outputs": [
    {
     "name": "stdout",
     "output_type": "stream",
     "text": [
      "+----------------+----------+-----------------------+------------+-----------+----------+--------------+---------+--------------------+--------------------+\n",
      "|Transaction Date|Value Date|Transaction Discription|Referance No|  Debit Amt|Credit Amt|   Running Bal|Bank-name|           file-name|       date_ingested|\n",
      "+----------------+----------+-----------------------+------------+-----------+----------+--------------+---------+--------------------+--------------------+\n",
      "|01-12-2021 06:10|01-12-2021|   NEFT/000214522423...|        null|       3.72|      null|2,47,97,607.12| RBL-Bank|s3://reconcilatio...|2022-03-11 19:17:...|\n",
      "|01-12-2021 06:10|01-12-2021|   NEFT/000214522442...|        null|       7.46|      null|2,47,97,599.66| RBL-Bank|s3://reconcilatio...|2022-03-11 19:17:...|\n",
      "|01-12-2021 06:10|01-12-2021|   NEFT/000214522424...|        null|       11.2|      null|2,47,97,588.46| RBL-Bank|s3://reconcilatio...|2022-03-11 19:17:...|\n",
      "|01-12-2021 06:10|01-12-2021|   NEFT/000214522466...|        null|   3,000.00|      null|2,47,94,588.46| RBL-Bank|s3://reconcilatio...|2022-03-11 19:17:...|\n",
      "|01-12-2021 06:10|01-12-2021|   NEFT/000214522469...|        null|       11.2|      null|2,47,94,577.26| RBL-Bank|s3://reconcilatio...|2022-03-11 19:17:...|\n",
      "|01-12-2021 06:10|01-12-2021|   NEFT/000214522445...|        null|      22.36|      null|2,47,94,554.90| RBL-Bank|s3://reconcilatio...|2022-03-11 19:17:...|\n",
      "|01-12-2021 06:10|01-12-2021|   NEFT/000214522471...|        null|      11.18|      null|2,47,94,543.72| RBL-Bank|s3://reconcilatio...|2022-03-11 19:17:...|\n",
      "|01-12-2021 06:10|01-12-2021|   NEFT/000214522474...|        null|      44.76|      null|2,47,94,498.96| RBL-Bank|s3://reconcilatio...|2022-03-11 19:17:...|\n",
      "|01-12-2021 06:10|01-12-2021|   NEFT/000214522477...|        null|       7.46|      null|2,47,94,491.50| RBL-Bank|s3://reconcilatio...|2022-03-11 19:17:...|\n",
      "|01-12-2021 06:10|01-12-2021|   NEFT/000214522447...|        null|      22.36|      null|2,47,94,469.14| RBL-Bank|s3://reconcilatio...|2022-03-11 19:17:...|\n",
      "|01-12-2021 06:10|01-12-2021|   RTGS/RATNH2133511...|        null|8,00,000.00|      null|2,39,94,469.14| RBL-Bank|s3://reconcilatio...|2022-03-11 19:17:...|\n",
      "|01-12-2021 06:10|01-12-2021|   NEFT/000214522473...|        null|       3.72|      null|2,39,94,465.42| RBL-Bank|s3://reconcilatio...|2022-03-11 19:17:...|\n",
      "|01-12-2021 06:10|01-12-2021|   NEFT/000214522490...|        null|      33.56|      null|2,39,94,431.86| RBL-Bank|s3://reconcilatio...|2022-03-11 19:17:...|\n",
      "|01-12-2021 07:03|01-12-2021|         133507009262-N|        null|         10|      null|2,39,94,421.86| RBL-Bank|s3://reconcilatio...|2022-03-11 19:17:...|\n",
      "|01-12-2021 07:08|01-12-2021|         133507010345-N|        null|         20|      null|2,39,94,401.86| RBL-Bank|s3://reconcilatio...|2022-03-11 19:17:...|\n",
      "|01-12-2021 07:35|01-12-2021|   133507027420-PAYMENT|        null|   7,000.00|      null|2,39,87,401.86| RBL-Bank|s3://reconcilatio...|2022-03-11 19:17:...|\n",
      "|01-12-2021 07:53|01-12-2021|   133507045381-PAYMENT|        null|        500|      null|2,39,86,901.86| RBL-Bank|s3://reconcilatio...|2022-03-11 19:17:...|\n",
      "|01-12-2021 07:59|01-12-2021|   133507049746-PAYMENT|        null|   1,000.00|      null|2,39,85,901.86| RBL-Bank|s3://reconcilatio...|2022-03-11 19:17:...|\n",
      "|01-12-2021 08:43|01-12-2021|   133508069096-PAYMENT|        null|   8,000.00|      null|2,39,77,901.86| RBL-Bank|s3://reconcilatio...|2022-03-11 19:17:...|\n",
      "|01-12-2021 08:46|01-12-2021|         133508070829-N|        null|        100|      null|2,39,77,801.86| RBL-Bank|s3://reconcilatio...|2022-03-11 19:17:...|\n",
      "+----------------+----------+-----------------------+------------+-----------+----------+--------------+---------+--------------------+--------------------+\n",
      "only showing top 20 rows\n",
      "\n"
     ]
    }
   ],
   "source": [
    "df2.show()"
   ]
  },
  {
   "cell_type": "code",
   "execution_count": 67,
   "metadata": {},
   "outputs": [
    {
     "data": {
      "text/plain": [
       "[('Transaction Date', 'string'),\n",
       " ('Value Date', 'string'),\n",
       " ('Transaction Discription', 'string'),\n",
       " ('Referance No', 'string'),\n",
       " ('Debit Amt', 'string'),\n",
       " ('Credit Amt', 'string'),\n",
       " ('Running Bal', 'string'),\n",
       " ('Bank-name', 'string'),\n",
       " ('file-name', 'string'),\n",
       " ('date_ingested', 'string')]"
      ]
     },
     "execution_count": 67,
     "metadata": {},
     "output_type": "execute_result"
    }
   ],
   "source": [
    "df2.dtypes"
   ]
  },
  {
   "cell_type": "markdown",
   "metadata": {},
   "source": [
    "# --------------------------------------------------------------------------------------------------------------------------------"
   ]
  },
  {
   "cell_type": "code",
   "execution_count": 68,
   "metadata": {},
   "outputs": [
    {
     "name": "stdout",
     "output_type": "stream",
     "text": [
      "+--------------------+--------+\n",
      "|           Regiments|    Arms|\n",
      "+--------------------+--------+\n",
      "|      Assam regiment|infantry|\n",
      "|     Garehwal rifles|infantry|\n",
      "|   Rajputana rifles |infantry|\n",
      "|     Rajput regiment|infantry|\n",
      "|Maratha light inf...|infantry|\n",
      "| Sikh light infantry|infantry|\n",
      "|       Sikh regiment|infantry|\n",
      "|       Para regiment|infantry|\n",
      "| para special forces|infantry|\n",
      "|     Signal regiment|    ENTC|\n",
      "|       508 regiment |Mech-inf|\n",
      "|     Madras Regiment|infantry|\n",
      "|          Granediers|infantry|\n",
      "+--------------------+--------+\n",
      "\n"
     ]
    }
   ],
   "source": [
    "dfregset= spark.read.csv(\"/media/easebuzz/DATA/Code/raw_files/Source_regiment.csv\",header=True)\n",
    "dfregset.show()"
   ]
  },
  {
   "cell_type": "code",
   "execution_count": 69,
   "metadata": {},
   "outputs": [
    {
     "name": "stdout",
     "output_type": "stream",
     "text": [
      "+----------+\n",
      "|filter_reg|\n",
      "+----------+\n",
      "|     Assam|\n",
      "|  Garehwal|\n",
      "|       508|\n",
      "+----------+\n",
      "\n"
     ]
    }
   ],
   "source": [
    "dffilterset= spark.read.csv(\"/media/easebuzz/DATA/Code/raw_files/filter_reg.csv\",header=True)\n",
    "dffilterset.show()"
   ]
  },
  {
   "cell_type": "code",
   "execution_count": 70,
   "metadata": {},
   "outputs": [
    {
     "name": "stdout",
     "output_type": "stream",
     "text": [
      "['Assam', 'Garehwal', '508']\n"
     ]
    }
   ],
   "source": [
    "fillist=([data[0] for data in dffilterset.select('filter_reg').collect()])\n",
    "print(fillist)\n"
   ]
  },
  {
   "cell_type": "code",
   "execution_count": 71,
   "metadata": {},
   "outputs": [
    {
     "name": "stdout",
     "output_type": "stream",
     "text": [
      "+---------------+--------+\n",
      "|      Regiments|    Arms|\n",
      "+---------------+--------+\n",
      "| Assam regiment|infantry|\n",
      "|Garehwal rifles|infantry|\n",
      "|  508 regiment |Mech-inf|\n",
      "+---------------+--------+\n",
      "\n"
     ]
    }
   ],
   "source": [
    "afterfil = dfregset.where(\n",
    "    dfregset['Regiments'].rlike(\"|\".join([\"(\" + pat + \")\" for pat in fillist]))\n",
    ")\n",
    "afterfil.show()\n"
   ]
  },
  {
   "cell_type": "code",
   "execution_count": 72,
   "metadata": {},
   "outputs": [
    {
     "name": "stdout",
     "output_type": "stream",
     "text": [
      "+--------------------+--------+\n",
      "|           Regiments|    Arms|\n",
      "+--------------------+--------+\n",
      "|     Madras Regiment|infantry|\n",
      "|     Signal regiment|    ENTC|\n",
      "|          Granediers|infantry|\n",
      "|   Rajputana rifles |infantry|\n",
      "|       Sikh regiment|infantry|\n",
      "|     Rajput regiment|infantry|\n",
      "| Sikh light infantry|infantry|\n",
      "| para special forces|infantry|\n",
      "|Maratha light inf...|infantry|\n",
      "|       Para regiment|infantry|\n",
      "+--------------------+--------+\n",
      "\n"
     ]
    }
   ],
   "source": [
    "dfregset.subtract(afterfil).show()"
   ]
  },
  {
   "cell_type": "code",
   "execution_count": 73,
   "metadata": {},
   "outputs": [],
   "source": [
    "#dftest = dfregset.merge(afterfil, how = 'outer' ,indicator=True).loc[lambda x : x['merge']=='left_only']\n",
    "#dftest = df1.merge(df2, how = 'outer' ,indicator=True).loc[lambda x : x['_merge']=='left_only']"
   ]
  },
  {
   "cell_type": "code",
   "execution_count": 74,
   "metadata": {},
   "outputs": [],
   "source": [
    "#diff_df = pd.merge(dfregset, afterfil, how='outer', indicator='Exist')\n",
    "\n",
    "#diff_df = diff_df.loc[diff_df['Exist'] != 'both']\n",
    "\n",
    "#df_diff = pd.concat([dfregset],afterfil).drop_duplicates(keep=False)"
   ]
  },
  {
   "cell_type": "code",
   "execution_count": 75,
   "metadata": {},
   "outputs": [],
   "source": [
    "#dfregset=pd.concat[afterfil]"
   ]
  },
  {
   "cell_type": "code",
   "execution_count": 76,
   "metadata": {},
   "outputs": [
    {
     "name": "stdout",
     "output_type": "stream",
     "text": [
      "<bound method NDFrame.head of                       Date                                        Description  \\\n",
      "0               14/03/2022                                              Bin-1   \n",
      "1               14/03/2022                                              Bin-2   \n",
      "2               14/03/2022                                              Bin-3   \n",
      "3               14/03/2022                     UPI Transaction dtd 12/03/2022   \n",
      "4               14/03/2022                     UPI Transaction dtd 11/03/2022   \n",
      "5               14/03/2022                                             Yes NB   \n",
      "6               14/03/2022                                              Yes-1   \n",
      "7               14/03/2022                                              Yes-2   \n",
      "8               14/03/2022                                              Yes-3   \n",
      "9               14/03/2022                                              Yes-4   \n",
      "10              14/03/2022                                              Yes-5   \n",
      "11              14/03/2022                                              Yes-6   \n",
      "12              12/03/2022                      EASEBUZZ _P2M TCC_11032022_04   \n",
      "13              12/03/2022                       EASEBUZZ  PVT LT_11032022_10   \n",
      "14              12/03/2022                      EASEBUZZ _P2M TCC_10032022_06   \n",
      "15              12/03/2022                       EASEBUZZ  PVT LT_10032022_11   \n",
      "16              14/03/2022                                         ICICI NB-1   \n",
      "17              14/03/2022                                         ICICI NB-2   \n",
      "18              14/03/2022                                         ICICI NB-3   \n",
      "19              14/03/2022  RTGS Cr-ICIC0000104-CENTRAL LIABILITY OPERATIO...   \n",
      "20              14/03/2022  RTGS Cr-ICIC0000104-CENTRAL LIABILITY OPERATIO...   \n",
      "21              14/03/2022  RTGS Cr-ICIC0000104-CENTRAL LIABILITY OPERATIO...   \n",
      "22              14/03/2022                     UPI Transaction dtd 13/03/2022   \n",
      "23  03/11/2022 06:36:32 PM  UPI/207015440229/RL747MC7GC/From:m2mferries@ye...   \n",
      "24  03/11/2022 06:56:23 PM  UPI/207015476019/R0VIGIGQ7S/From:ameetparekhco...   \n",
      "25  03/13/2022 01:48:14 PM  UPI/207218814872/R0JGPE3XTM/From:m2mferries@ye...   \n",
      "26  03/13/2022 01:49:01 PM  UPI/207218815894/R8OPVDQGC1/From:m2mferries@ye...   \n",
      "27  03/13/2022 01:49:33 PM  UPI/207218816487/R2KABCG6YQ/From:m2mferries@ye...   \n",
      "28  03/13/2022 01:49:35 PM  UPI/207218816824/R6HMR2SU72/From:m2mferries@ye...   \n",
      "29                     NaN                                                NaN   \n",
      "30              14/03/2022                                              TOTAL   \n",
      "\n",
      "          Amount C.D.Flag  Total Yes Amount  Wire amount  Receipt Amount  \\\n",
      "0   7.956043e+06        C               NaN          NaN             NaN   \n",
      "1   4.237830e+06        C               NaN          NaN             NaN   \n",
      "2   4.357183e+06        C               NaN          NaN             NaN   \n",
      "3   9.577457e+07        C      9.858979e+07   2815227.00             NaN   \n",
      "4   8.850156e+07        C      9.069003e+07   2188467.43             NaN   \n",
      "5   4.185201e+05        C               NaN          NaN             NaN   \n",
      "6   1.105287e+07        C               NaN          NaN             NaN   \n",
      "7   1.109600e+07        C               NaN          NaN             NaN   \n",
      "8   7.543821e+06        C               NaN          NaN             NaN   \n",
      "9   8.445967e+06        C               NaN          NaN             NaN   \n",
      "10  4.609177e+06        C               NaN          NaN             NaN   \n",
      "11  6.508852e+06        C               NaN          NaN             NaN   \n",
      "12  5.700000e+02        C               NaN          NaN             NaN   \n",
      "13  9.069000e+03        C               NaN          NaN             NaN   \n",
      "14  3.720000e+02        C               NaN          NaN             NaN   \n",
      "15  3.010000e+03        C               NaN          NaN             NaN   \n",
      "16  2.515496e+06        C               NaN          NaN             NaN   \n",
      "17  1.499004e+06        C               NaN          NaN             NaN   \n",
      "18  2.308715e+06        C               NaN          NaN             NaN   \n",
      "19  3.515322e+06        C               NaN          NaN             NaN   \n",
      "20  3.571257e+06        C               NaN          NaN             NaN   \n",
      "21  4.240020e+06        C               NaN          NaN             NaN   \n",
      "22  7.461326e+07      NaN      7.799154e+07          NaN             NaN   \n",
      "23 -3.600000e+02        D      2.070154e+11          NaN             NaN   \n",
      "24 -3.998820e+04        D      2.070155e+11          NaN             NaN   \n",
      "25 -1.800000e+02        D      2.072188e+11          NaN             NaN   \n",
      "26 -3.600000e+02        D      2.072188e+11          NaN             NaN   \n",
      "27 -4.600000e+02        D      2.072188e+11          NaN             NaN   \n",
      "28 -4.600000e+02        D      2.072188e+11          NaN             NaN   \n",
      "29           NaN      NaN               NaN          NaN             NaN   \n",
      "30  3.427367e+08      NaN               NaN          NaN             NaN   \n",
      "\n",
      "    Merged Amount   Difference  \n",
      "0              NaN         NaN  \n",
      "1              NaN         NaN  \n",
      "2              NaN         NaN  \n",
      "3              NaN         NaN  \n",
      "4              NaN         NaN  \n",
      "5              NaN         NaN  \n",
      "6              NaN         NaN  \n",
      "7              NaN         NaN  \n",
      "8              NaN         NaN  \n",
      "9              NaN         NaN  \n",
      "10             NaN         NaN  \n",
      "11             NaN         NaN  \n",
      "12             NaN         NaN  \n",
      "13             NaN         NaN  \n",
      "14             NaN         NaN  \n",
      "15             NaN         NaN  \n",
      "16             NaN         NaN  \n",
      "17             NaN         NaN  \n",
      "18             NaN         NaN  \n",
      "19             NaN         NaN  \n",
      "20             NaN         NaN  \n",
      "21             NaN         NaN  \n",
      "22             NaN         NaN  \n",
      "23             NaN         NaN  \n",
      "24             NaN         NaN  \n",
      "25             NaN         NaN  \n",
      "26             NaN         NaN  \n",
      "27             NaN         NaN  \n",
      "28             NaN         NaN  \n",
      "29             NaN         NaN  \n",
      "30             NaN         NaN  >\n"
     ]
    }
   ],
   "source": [
    "receipt = pd.read_excel(\"/media/easebuzz/DATA/Code/raw_files/receipt-14-03-2022-yespart A FINAL.xls\")\n",
    "print(receipt.head)"
   ]
  },
  {
   "cell_type": "markdown",
   "metadata": {},
   "source": [
    "# ------------------------------------------------------------------------------------------------------------------------"
   ]
  },
  {
   "cell_type": "code",
   "execution_count": 77,
   "metadata": {},
   "outputs": [
    {
     "name": "stdout",
     "output_type": "stream",
     "text": [
      "+-------------------+--------------------+--------------------+\n",
      "|   transaction_date|          value_date|            NOTATION|\n",
      "+-------------------+--------------------+--------------------+\n",
      "|2021-11-01 00:25:00|2021-10-30 18:30:...|R/UPI/13051309360...|\n",
      "|2021-11-01 05:57:00|2021-10-31 18:30:...|R/UPI/13051309735...|\n",
      "|2021-11-01 09:52:00|2021-10-31 18:30:...|RTGS/UTIBH2130521...|\n",
      "|2021-11-01 12:29:00|2021-10-31 18:30:...|IMPS 130512021968...|\n",
      "|2021-11-01 06:25:00|2021-10-31 18:30:...|R/UPI/13051309792...|\n",
      "|2021-11-01 13:06:00|2021-10-31 18:30:...|UPI/130555786563/...|\n",
      "|2021-11-01 15:16:00|2021-10-31 18:30:...|IMPS 130515581433...|\n",
      "|2021-11-01 17:18:00|2021-10-31 18:30:...|    TR9E6B0CDD65724F|\n",
      "|2021-11-01 18:08:00|2021-10-31 18:30:...|IMPS 130518852314...|\n",
      "|2021-11-01 20:14:00|2021-10-31 18:30:...|NEFT/INDBN0111485...|\n",
      "|2021-11-01 23:17:00|2021-10-31 18:30:...|IMPS 130523849594...|\n",
      "|2021-11-02 11:31:00|2021-11-01 18:30:...|R-130611071368-RE...|\n",
      "|2021-11-02 12:38:00|2021-11-01 18:30:...|    TR7E059CA211C041|\n",
      "|2021-11-02 13:07:00|2021-11-01 18:30:...|R-130613047373-RE...|\n",
      "|2021-11-01 15:02:00|2021-10-31 18:30:...|UPI/130515077389/...|\n",
      "|2021-11-01 16:02:00|2021-10-31 18:30:...|NEFT/SBIN32130522...|\n",
      "|2021-11-01 16:14:00|2021-10-31 18:30:...|RTGS/IBKLH2130560...|\n",
      "|2021-11-02 18:59:00|2021-11-01 18:30:...|RTGS/ICICH2130614...|\n",
      "|2021-11-02 19:55:00|2021-11-01 18:30:...|IMPS 130619650378...|\n",
      "|2021-11-02 17:55:00|2021-11-01 18:30:...|RTGS/HDFCH2130619...|\n",
      "+-------------------+--------------------+--------------------+\n",
      "only showing top 20 rows\n",
      "\n"
     ]
    }
   ],
   "source": [
    "Yesstatements =spark.read.csv('/media/easebuzz/DATA/Code/Processed_files/bankstatements_test.csv',header=True)\n",
    "Yesstatements.show()"
   ]
  },
  {
   "cell_type": "code",
   "execution_count": 78,
   "metadata": {},
   "outputs": [
    {
     "name": "stdout",
     "output_type": "stream",
     "text": [
      "+----------------+\n",
      "|             UTR|\n",
      "+----------------+\n",
      "|    130513093601|\n",
      "|    130513097355|\n",
      "|UTIBH21305219225|\n",
      "|    130512021968|\n",
      "|    130513097925|\n",
      "+----------------+\n",
      "only showing top 5 rows\n",
      "\n"
     ]
    }
   ],
   "source": [
    "Utr =spark.read.csv(\"/media/easebuzz/DATA/Code/Processed_files/UtR_test.csv\",header=True)\n",
    "Utr.show(5)"
   ]
  },
  {
   "cell_type": "code",
   "execution_count": 79,
   "metadata": {},
   "outputs": [
    {
     "name": "stdout",
     "output_type": "stream",
     "text": [
      "['130513093601', '130513097355', 'UTIBH21305219225', '130512021968', '130513097925', '130555786563', '130515581433', '130518852314', 'INDBN01114855660', '130523849594', '130611071368', '130613047373', 'SBIN321305229549', 'IBKLH21305600499', 'ICICH21306149418', '130619650378', 'HDFCH21306191224', '130622355229', '130513093616', '130513094584', '130513096509', '130509029235', '130509372224', '130710474439', 'N307211701074022', '130716067880', '130719049699', '130719050613', 'UTIBH21307245061', '130718510506', 'R-130718043751-REVERSAL-DP', 'IMPS 130719939340 FROM JUSTDIAL']\n"
     ]
    }
   ],
   "source": [
    "Utrlist=([data[0] for data in Utr.select('UTR').collect()])\n",
    "print(Utrlist)\n"
   ]
  },
  {
   "cell_type": "code",
   "execution_count": 80,
   "metadata": {},
   "outputs": [
    {
     "name": "stdout",
     "output_type": "stream",
     "text": [
      "['130513093601', '130513097355', 'UTIBH21305219225', '130512021968', '130513097925', '130555786563', '130515581433', '130518852314', 'INDBN01114855660', '130523849594', '130611071368', '130613047373', 'SBIN321305229549', 'IBKLH21305600499', 'ICICH21306149418', '130619650378', 'HDFCH21306191224', '130622355229', '130513093616', '130513094584', '130513096509', '130509029235', '130509372224', '130710474439', 'N307211701074022', '130716067880', '130719049699', '130719050613', 'UTIBH21307245061', '130718510506', 'R-130718043751-REVERSAL-DP', 'IMPS 130719939340 FROM JUSTDIAL']\n"
     ]
    }
   ],
   "source": [
    "filtered_list=[]\n",
    "for ele in Utrlist:\n",
    "    if ele != None:\n",
    "        filtered_list.append(ele)\n",
    "print(filtered_list)"
   ]
  },
  {
   "cell_type": "code",
   "execution_count": 81,
   "metadata": {},
   "outputs": [],
   "source": [
    "afterfil = Yesstatements.where(\n",
    "    Yesstatements['NOTATION'].rlike(\"|\".join([\"(\" + pat + \")\" for pat in filtered_list]))\n",
    ")"
   ]
  },
  {
   "cell_type": "code",
   "execution_count": 82,
   "metadata": {},
   "outputs": [],
   "source": [
    "unmatched=Yesstatements.subtract(afterfil)"
   ]
  },
  {
   "cell_type": "code",
   "execution_count": 83,
   "metadata": {},
   "outputs": [],
   "source": [
    "afterfil= afterfil.withColumn('Status', sf.lit('Matched'))"
   ]
  },
  {
   "cell_type": "code",
   "execution_count": 84,
   "metadata": {},
   "outputs": [],
   "source": [
    "unmatched= unmatched.withColumn('Status', sf.lit('Unmatched'))"
   ]
  },
  {
   "cell_type": "code",
   "execution_count": 85,
   "metadata": {},
   "outputs": [
    {
     "name": "stdout",
     "output_type": "stream",
     "text": [
      "+-------------------+--------------------+--------------------+---------+\n",
      "|   transaction_date|          value_date|            NOTATION|   Status|\n",
      "+-------------------+--------------------+--------------------+---------+\n",
      "|2021-11-09 17:32:00|2021-11-08 18:30:...|RTGS/IDFBH2131355...|Unmatched|\n",
      "|2021-11-19 15:53:00|2021-11-18 18:30:...|UPI/132377504949/...|Unmatched|\n",
      "|2021-11-05 20:27:00|2021-11-04 18:30:...|IMPS 130920591776...|Unmatched|\n",
      "|2021-11-13 19:11:00|2021-11-12 18:30:...|IMPS 131719977880...|Unmatched|\n",
      "|2021-11-01 19:25:00|2021-10-31 18:30:...|IMPS 130519185896...|Unmatched|\n",
      "|2021-11-06 18:36:00|2021-11-05 18:30:...|RTGS/BCBMH2131073...|Unmatched|\n",
      "|2021-11-03 19:40:00|2021-11-02 18:30:...|R-130719068598-RE...|Unmatched|\n",
      "|2021-11-11 20:34:00|2021-11-10 18:30:...|RTGS/IDFBH2131556...|Unmatched|\n",
      "|2021-11-02 13:23:00|2021-11-01 18:30:...|IMPS 130613116845...|Unmatched|\n",
      "|2021-11-15 12:20:00|2021-11-14 18:30:...|IMPS 131912819043...|Unmatched|\n",
      "|2021-11-12 10:47:00|2021-11-11 18:30:...|R-131610034065-RE...|Unmatched|\n",
      "|2021-11-03 13:10:00|2021-11-02 18:30:...|IMPS 130713379825...|Unmatched|\n",
      "|2021-11-25 13:31:00|2021-11-24 18:30:...|NEFT/N32921172550...|Unmatched|\n",
      "|2021-11-08 15:23:00|2021-11-07 18:30:...|IMPS 131215502717...|Unmatched|\n",
      "|2021-11-11 14:02:00|2021-11-10 18:30:...|NEFT/IBKL21111170...|Unmatched|\n",
      "|2021-11-01 13:07:00|2021-10-31 18:30:...|NEFT/N30521169608...|Unmatched|\n",
      "|2021-11-10 17:58:00|2021-11-09 18:30:...|IMPS 131417166381...|Unmatched|\n",
      "|2021-11-11 15:04:00|2021-11-10 18:30:...|    TR440FC42645594D|Unmatched|\n",
      "|2021-11-24 19:07:00|2021-11-23 18:30:...|NEFT/000213218681...|Unmatched|\n",
      "|2021-11-01 14:11:00|2021-10-31 18:30:...|IMPS 130514515729...|Unmatched|\n",
      "+-------------------+--------------------+--------------------+---------+\n",
      "only showing top 20 rows\n",
      "\n"
     ]
    }
   ],
   "source": [
    "unmatched.show()"
   ]
  },
  {
   "cell_type": "code",
   "execution_count": 86,
   "metadata": {},
   "outputs": [
    {
     "name": "stdout",
     "output_type": "stream",
     "text": [
      "+-------------------+--------------------+--------------------+-------+\n",
      "|   transaction_date|          value_date|            NOTATION| Status|\n",
      "+-------------------+--------------------+--------------------+-------+\n",
      "|2021-11-01 00:25:00|2021-10-30 18:30:...|R/UPI/13051309360...|Matched|\n",
      "|2021-11-01 05:57:00|2021-10-31 18:30:...|R/UPI/13051309735...|Matched|\n",
      "|2021-11-01 09:52:00|2021-10-31 18:30:...|RTGS/UTIBH2130521...|Matched|\n",
      "|2021-11-01 12:29:00|2021-10-31 18:30:...|IMPS 130512021968...|Matched|\n",
      "|2021-11-01 06:25:00|2021-10-31 18:30:...|R/UPI/13051309792...|Matched|\n",
      "|2021-11-01 13:06:00|2021-10-31 18:30:...|UPI/130555786563/...|Matched|\n",
      "|2021-11-01 15:16:00|2021-10-31 18:30:...|IMPS 130515581433...|Matched|\n",
      "|2021-11-01 18:08:00|2021-10-31 18:30:...|IMPS 130518852314...|Matched|\n",
      "|2021-11-01 20:14:00|2021-10-31 18:30:...|NEFT/INDBN0111485...|Matched|\n",
      "|2021-11-01 23:17:00|2021-10-31 18:30:...|IMPS 130523849594...|Matched|\n",
      "|2021-11-02 11:31:00|2021-11-01 18:30:...|R-130611071368-RE...|Matched|\n",
      "|2021-11-02 13:07:00|2021-11-01 18:30:...|R-130613047373-RE...|Matched|\n",
      "|2021-11-01 16:02:00|2021-10-31 18:30:...|NEFT/SBIN32130522...|Matched|\n",
      "|2021-11-01 16:14:00|2021-10-31 18:30:...|RTGS/IBKLH2130560...|Matched|\n",
      "|2021-11-02 18:59:00|2021-11-01 18:30:...|RTGS/ICICH2130614...|Matched|\n",
      "|2021-11-02 19:55:00|2021-11-01 18:30:...|IMPS 130619650378...|Matched|\n",
      "|2021-11-02 17:55:00|2021-11-01 18:30:...|RTGS/HDFCH2130619...|Matched|\n",
      "|2021-11-02 22:43:00|2021-11-01 18:30:...|IMPS 130622355229...|Matched|\n",
      "|2021-11-01 00:26:00|2021-10-30 18:30:...|R/UPI/13051309361...|Matched|\n",
      "|2021-11-01 01:00:00|2021-10-30 18:30:...|R/UPI/13051309458...|Matched|\n",
      "+-------------------+--------------------+--------------------+-------+\n",
      "only showing top 20 rows\n",
      "\n"
     ]
    }
   ],
   "source": [
    "afterfil.show()"
   ]
  },
  {
   "cell_type": "code",
   "execution_count": 87,
   "metadata": {},
   "outputs": [
    {
     "name": "stdout",
     "output_type": "stream",
     "text": [
      "(32, 4)\n"
     ]
    }
   ],
   "source": [
    "print((afterfil.count(), len(afterfil.columns)))"
   ]
  },
  {
   "cell_type": "code",
   "execution_count": 88,
   "metadata": {},
   "outputs": [
    {
     "name": "stdout",
     "output_type": "stream",
     "text": [
      "(168, 4)\n"
     ]
    }
   ],
   "source": [
    "print((unmatched.count(), len(unmatched.columns)))"
   ]
  },
  {
   "cell_type": "code",
   "execution_count": 89,
   "metadata": {},
   "outputs": [
    {
     "name": "stdout",
     "output_type": "stream",
     "text": [
      "(200, 3)\n"
     ]
    }
   ],
   "source": [
    "print((Yesstatements.count(), len(Yesstatements.columns)))"
   ]
  },
  {
   "cell_type": "markdown",
   "metadata": {},
   "source": [
    "# ---------------------------------------------------------------------------------------------------------------------------------"
   ]
  },
  {
   "cell_type": "code",
   "execution_count": 90,
   "metadata": {},
   "outputs": [],
   "source": [
    "#Yesstatements.withColumn(\"MATCHING\",col(\"NOTATION\").rlike(filtered_list.mkString(\"|\"))).show(truncate = false)"
   ]
  },
  {
   "cell_type": "code",
   "execution_count": 91,
   "metadata": {},
   "outputs": [],
   "source": [
    "#Yesstatements.withColumn(\"contains_cat_or_dog\",col(\"phrase\").rlike(animals.mkString(\"|\"))).show(truncate = false)"
   ]
  },
  {
   "cell_type": "markdown",
   "metadata": {},
   "source": [
    "# ------------------------------------------------------------------------------------------------------------------------------"
   ]
  },
  {
   "cell_type": "code",
   "execution_count": 92,
   "metadata": {},
   "outputs": [],
   "source": [
    "from pyspark.sql.types import StructType,StructField, StringType, IntegerType"
   ]
  },
  {
   "cell_type": "code",
   "execution_count": 93,
   "metadata": {},
   "outputs": [],
   "source": [
    "data2 = [(\"James\",\"\",\"Smith\",\"36636\",\"M\",3000,3000),\n",
    "    (\"Michael\",\"Rose\",\"\",\"40288\",\"M\",4000,4500),\n",
    "    (\"Robert\",\"\",\"Williams\",\"42114\",\"M\",4000,4000),\n",
    "    (\"Maria\",\"Anne\",\"Jones\",\"39192\",\"F\",4000,3500),\n",
    "    (\"Jen\",\"Mary\",\"Brown\",\"\",\"F\",-1,4000)\n",
    "  ]"
   ]
  },
  {
   "cell_type": "code",
   "execution_count": 94,
   "metadata": {},
   "outputs": [],
   "source": [
    "schema = StructType([ \\\n",
    "    StructField(\"firstname\",StringType(),True), \\\n",
    "    StructField(\"middlename\",StringType(),True), \\\n",
    "    StructField(\"lastname\",StringType(),True), \\\n",
    "    StructField(\"id\", StringType(), True), \\\n",
    "    StructField(\"gender\", StringType(), True), \\\n",
    "    StructField(\"salary\", StringType(), True), \\\n",
    "    StructField(\"refnum\",StringType(), True) \\\n",
    "  ])"
   ]
  },
  {
   "cell_type": "code",
   "execution_count": 95,
   "metadata": {},
   "outputs": [],
   "source": [
    "testdf=spark.createDataFrame(data2,schema=schema)"
   ]
  },
  {
   "cell_type": "code",
   "execution_count": 96,
   "metadata": {},
   "outputs": [
    {
     "name": "stdout",
     "output_type": "stream",
     "text": [
      "root\n",
      " |-- firstname: string (nullable = true)\n",
      " |-- middlename: string (nullable = true)\n",
      " |-- lastname: string (nullable = true)\n",
      " |-- id: string (nullable = true)\n",
      " |-- gender: string (nullable = true)\n",
      " |-- salary: string (nullable = true)\n",
      " |-- refnum: string (nullable = true)\n",
      "\n"
     ]
    }
   ],
   "source": [
    "testdf.printSchema()"
   ]
  },
  {
   "cell_type": "code",
   "execution_count": 97,
   "metadata": {},
   "outputs": [],
   "source": [
    "#testdf.show(truncate=False)"
   ]
  },
  {
   "cell_type": "code",
   "execution_count": 98,
   "metadata": {},
   "outputs": [
    {
     "name": "stdout",
     "output_type": "stream",
     "text": [
      "<bound method NDFrame.head of                       Date                                        Description  \\\n",
      "0               14/03/2022                                              Bin-1   \n",
      "1               14/03/2022                                              Bin-2   \n",
      "2               14/03/2022                                              Bin-3   \n",
      "3               14/03/2022                     UPI Transaction dtd 12/03/2022   \n",
      "4               14/03/2022                     UPI Transaction dtd 11/03/2022   \n",
      "5               14/03/2022                                             Yes NB   \n",
      "6               14/03/2022                                              Yes-1   \n",
      "7               14/03/2022                                              Yes-2   \n",
      "8               14/03/2022                                              Yes-3   \n",
      "9               14/03/2022                                              Yes-4   \n",
      "10              14/03/2022                                              Yes-5   \n",
      "11              14/03/2022                                              Yes-6   \n",
      "12              12/03/2022                      EASEBUZZ _P2M TCC_11032022_04   \n",
      "13              12/03/2022                       EASEBUZZ  PVT LT_11032022_10   \n",
      "14              12/03/2022                      EASEBUZZ _P2M TCC_10032022_06   \n",
      "15              12/03/2022                       EASEBUZZ  PVT LT_10032022_11   \n",
      "16              14/03/2022                                         ICICI NB-1   \n",
      "17              14/03/2022                                         ICICI NB-2   \n",
      "18              14/03/2022                                         ICICI NB-3   \n",
      "19              14/03/2022  RTGS Cr-ICIC0000104-CENTRAL LIABILITY OPERATIO...   \n",
      "20              14/03/2022  RTGS Cr-ICIC0000104-CENTRAL LIABILITY OPERATIO...   \n",
      "21              14/03/2022  RTGS Cr-ICIC0000104-CENTRAL LIABILITY OPERATIO...   \n",
      "22              14/03/2022                     UPI Transaction dtd 13/03/2022   \n",
      "23  03/11/2022 06:36:32 PM  UPI/207015440229/RL747MC7GC/From:m2mferries@ye...   \n",
      "24  03/11/2022 06:56:23 PM  UPI/207015476019/R0VIGIGQ7S/From:ameetparekhco...   \n",
      "25  03/13/2022 01:48:14 PM  UPI/207218814872/R0JGPE3XTM/From:m2mferries@ye...   \n",
      "26  03/13/2022 01:49:01 PM  UPI/207218815894/R8OPVDQGC1/From:m2mferries@ye...   \n",
      "27  03/13/2022 01:49:33 PM  UPI/207218816487/R2KABCG6YQ/From:m2mferries@ye...   \n",
      "28  03/13/2022 01:49:35 PM  UPI/207218816824/R6HMR2SU72/From:m2mferries@ye...   \n",
      "29                     NaN                                                NaN   \n",
      "30              14/03/2022                                              TOTAL   \n",
      "\n",
      "          Amount C.D.Flag  Total Yes Amount  Wire amount  Receipt Amount  \\\n",
      "0   7.956043e+06        C               NaN          NaN             NaN   \n",
      "1   4.237830e+06        C               NaN          NaN             NaN   \n",
      "2   4.357183e+06        C               NaN          NaN             NaN   \n",
      "3   9.577457e+07        C      9.858979e+07   2815227.00             NaN   \n",
      "4   8.850156e+07        C      9.069003e+07   2188467.43             NaN   \n",
      "5   4.185201e+05        C               NaN          NaN             NaN   \n",
      "6   1.105287e+07        C               NaN          NaN             NaN   \n",
      "7   1.109600e+07        C               NaN          NaN             NaN   \n",
      "8   7.543821e+06        C               NaN          NaN             NaN   \n",
      "9   8.445967e+06        C               NaN          NaN             NaN   \n",
      "10  4.609177e+06        C               NaN          NaN             NaN   \n",
      "11  6.508852e+06        C               NaN          NaN             NaN   \n",
      "12  5.700000e+02        C               NaN          NaN             NaN   \n",
      "13  9.069000e+03        C               NaN          NaN             NaN   \n",
      "14  3.720000e+02        C               NaN          NaN             NaN   \n",
      "15  3.010000e+03        C               NaN          NaN             NaN   \n",
      "16  2.515496e+06        C               NaN          NaN             NaN   \n",
      "17  1.499004e+06        C               NaN          NaN             NaN   \n",
      "18  2.308715e+06        C               NaN          NaN             NaN   \n",
      "19  3.515322e+06        C               NaN          NaN             NaN   \n",
      "20  3.571257e+06        C               NaN          NaN             NaN   \n",
      "21  4.240020e+06        C               NaN          NaN             NaN   \n",
      "22  7.461326e+07      NaN      7.799154e+07          NaN             NaN   \n",
      "23 -3.600000e+02        D      2.070154e+11          NaN             NaN   \n",
      "24 -3.998820e+04        D      2.070155e+11          NaN             NaN   \n",
      "25 -1.800000e+02        D      2.072188e+11          NaN             NaN   \n",
      "26 -3.600000e+02        D      2.072188e+11          NaN             NaN   \n",
      "27 -4.600000e+02        D      2.072188e+11          NaN             NaN   \n",
      "28 -4.600000e+02        D      2.072188e+11          NaN             NaN   \n",
      "29           NaN      NaN               NaN          NaN             NaN   \n",
      "30  3.427367e+08      NaN               NaN          NaN             NaN   \n",
      "\n",
      "    Merged Amount   Difference  \n",
      "0              NaN         NaN  \n",
      "1              NaN         NaN  \n",
      "2              NaN         NaN  \n",
      "3              NaN         NaN  \n",
      "4              NaN         NaN  \n",
      "5              NaN         NaN  \n",
      "6              NaN         NaN  \n",
      "7              NaN         NaN  \n",
      "8              NaN         NaN  \n",
      "9              NaN         NaN  \n",
      "10             NaN         NaN  \n",
      "11             NaN         NaN  \n",
      "12             NaN         NaN  \n",
      "13             NaN         NaN  \n",
      "14             NaN         NaN  \n",
      "15             NaN         NaN  \n",
      "16             NaN         NaN  \n",
      "17             NaN         NaN  \n",
      "18             NaN         NaN  \n",
      "19             NaN         NaN  \n",
      "20             NaN         NaN  \n",
      "21             NaN         NaN  \n",
      "22             NaN         NaN  \n",
      "23             NaN         NaN  \n",
      "24             NaN         NaN  \n",
      "25             NaN         NaN  \n",
      "26             NaN         NaN  \n",
      "27             NaN         NaN  \n",
      "28             NaN         NaN  \n",
      "29             NaN         NaN  \n",
      "30             NaN         NaN  >\n"
     ]
    }
   ],
   "source": [
    "receipt2 = pd.read_excel(\"/media/easebuzz/DATA/Code/raw_files/YESUPI_RECEIPT-Jan-2022.xls\")\n",
    "print(receipt.head)"
   ]
  },
  {
   "cell_type": "code",
   "execution_count": 99,
   "metadata": {},
   "outputs": [
    {
     "ename": "AnalysisException",
     "evalue": "Path does not exist: file:/media/easebuzz/DATA/Code/raw_files/YESNSTAT_01Jan 22_to_10Jan22.csv",
     "output_type": "error",
     "traceback": [
      "\u001b[0;31m---------------------------------------------------------------------------\u001b[0m",
      "\u001b[0;31mAnalysisException\u001b[0m                         Traceback (most recent call last)",
      "\u001b[0;32m/tmp/ipykernel_3795/1414448313.py\u001b[0m in \u001b[0;36m<module>\u001b[0;34m\u001b[0m\n\u001b[0;32m----> 1\u001b[0;31m \u001b[0mstatements\u001b[0m \u001b[0;34m=\u001b[0m \u001b[0mspark\u001b[0m\u001b[0;34m.\u001b[0m\u001b[0mread\u001b[0m\u001b[0;34m.\u001b[0m\u001b[0mcsv\u001b[0m\u001b[0;34m(\u001b[0m\u001b[0;34m\"/media/easebuzz/DATA/Code/raw_files/YESNSTAT_01Jan 22_to_10Jan22.csv\"\u001b[0m\u001b[0;34m,\u001b[0m\u001b[0mheader\u001b[0m\u001b[0;34m=\u001b[0m\u001b[0;32mTrue\u001b[0m\u001b[0;34m)\u001b[0m\u001b[0;34m\u001b[0m\u001b[0;34m\u001b[0m\u001b[0m\n\u001b[0m\u001b[1;32m      2\u001b[0m \u001b[0mdatafile\u001b[0m\u001b[0;34m.\u001b[0m\u001b[0mshow\u001b[0m\u001b[0;34m(\u001b[0m\u001b[0;36m5\u001b[0m\u001b[0;34m)\u001b[0m\u001b[0;34m\u001b[0m\u001b[0;34m\u001b[0m\u001b[0m\n",
      "\u001b[0;32m~/.local/lib/python3.7/site-packages/pyspark/sql/readwriter.py\u001b[0m in \u001b[0;36mcsv\u001b[0;34m(self, path, schema, sep, encoding, quote, escape, comment, header, inferSchema, ignoreLeadingWhiteSpace, ignoreTrailingWhiteSpace, nullValue, nanValue, positiveInf, negativeInf, dateFormat, timestampFormat, maxColumns, maxCharsPerColumn, maxMalformedLogPerPartition, mode, columnNameOfCorruptRecord, multiLine, charToEscapeQuoteEscaping, samplingRatio, enforceSchema, emptyValue, locale, lineSep, pathGlobFilter, recursiveFileLookup, modifiedBefore, modifiedAfter, unescapedQuoteHandling)\u001b[0m\n\u001b[1;32m    408\u001b[0m             \u001b[0mpath\u001b[0m \u001b[0;34m=\u001b[0m \u001b[0;34m[\u001b[0m\u001b[0mpath\u001b[0m\u001b[0;34m]\u001b[0m\u001b[0;34m\u001b[0m\u001b[0;34m\u001b[0m\u001b[0m\n\u001b[1;32m    409\u001b[0m         \u001b[0;32mif\u001b[0m \u001b[0mtype\u001b[0m\u001b[0;34m(\u001b[0m\u001b[0mpath\u001b[0m\u001b[0;34m)\u001b[0m \u001b[0;34m==\u001b[0m \u001b[0mlist\u001b[0m\u001b[0;34m:\u001b[0m\u001b[0;34m\u001b[0m\u001b[0;34m\u001b[0m\u001b[0m\n\u001b[0;32m--> 410\u001b[0;31m             \u001b[0;32mreturn\u001b[0m \u001b[0mself\u001b[0m\u001b[0;34m.\u001b[0m\u001b[0m_df\u001b[0m\u001b[0;34m(\u001b[0m\u001b[0mself\u001b[0m\u001b[0;34m.\u001b[0m\u001b[0m_jreader\u001b[0m\u001b[0;34m.\u001b[0m\u001b[0mcsv\u001b[0m\u001b[0;34m(\u001b[0m\u001b[0mself\u001b[0m\u001b[0;34m.\u001b[0m\u001b[0m_spark\u001b[0m\u001b[0;34m.\u001b[0m\u001b[0m_sc\u001b[0m\u001b[0;34m.\u001b[0m\u001b[0m_jvm\u001b[0m\u001b[0;34m.\u001b[0m\u001b[0mPythonUtils\u001b[0m\u001b[0;34m.\u001b[0m\u001b[0mtoSeq\u001b[0m\u001b[0;34m(\u001b[0m\u001b[0mpath\u001b[0m\u001b[0;34m)\u001b[0m\u001b[0;34m)\u001b[0m\u001b[0;34m)\u001b[0m\u001b[0;34m\u001b[0m\u001b[0;34m\u001b[0m\u001b[0m\n\u001b[0m\u001b[1;32m    411\u001b[0m         \u001b[0;32melif\u001b[0m \u001b[0misinstance\u001b[0m\u001b[0;34m(\u001b[0m\u001b[0mpath\u001b[0m\u001b[0;34m,\u001b[0m \u001b[0mRDD\u001b[0m\u001b[0;34m)\u001b[0m\u001b[0;34m:\u001b[0m\u001b[0;34m\u001b[0m\u001b[0;34m\u001b[0m\u001b[0m\n\u001b[1;32m    412\u001b[0m             \u001b[0;32mdef\u001b[0m \u001b[0mfunc\u001b[0m\u001b[0;34m(\u001b[0m\u001b[0miterator\u001b[0m\u001b[0;34m)\u001b[0m\u001b[0;34m:\u001b[0m\u001b[0;34m\u001b[0m\u001b[0;34m\u001b[0m\u001b[0m\n",
      "\u001b[0;32m~/.local/lib/python3.7/site-packages/py4j/java_gateway.py\u001b[0m in \u001b[0;36m__call__\u001b[0;34m(self, *args)\u001b[0m\n\u001b[1;32m   1320\u001b[0m         \u001b[0manswer\u001b[0m \u001b[0;34m=\u001b[0m \u001b[0mself\u001b[0m\u001b[0;34m.\u001b[0m\u001b[0mgateway_client\u001b[0m\u001b[0;34m.\u001b[0m\u001b[0msend_command\u001b[0m\u001b[0;34m(\u001b[0m\u001b[0mcommand\u001b[0m\u001b[0;34m)\u001b[0m\u001b[0;34m\u001b[0m\u001b[0;34m\u001b[0m\u001b[0m\n\u001b[1;32m   1321\u001b[0m         return_value = get_return_value(\n\u001b[0;32m-> 1322\u001b[0;31m             answer, self.gateway_client, self.target_id, self.name)\n\u001b[0m\u001b[1;32m   1323\u001b[0m \u001b[0;34m\u001b[0m\u001b[0m\n\u001b[1;32m   1324\u001b[0m         \u001b[0;32mfor\u001b[0m \u001b[0mtemp_arg\u001b[0m \u001b[0;32min\u001b[0m \u001b[0mtemp_args\u001b[0m\u001b[0;34m:\u001b[0m\u001b[0;34m\u001b[0m\u001b[0;34m\u001b[0m\u001b[0m\n",
      "\u001b[0;32m~/.local/lib/python3.7/site-packages/pyspark/sql/utils.py\u001b[0m in \u001b[0;36mdeco\u001b[0;34m(*a, **kw)\u001b[0m\n\u001b[1;32m    115\u001b[0m                 \u001b[0;31m# Hide where the exception came from that shows a non-Pythonic\u001b[0m\u001b[0;34m\u001b[0m\u001b[0;34m\u001b[0m\u001b[0;34m\u001b[0m\u001b[0m\n\u001b[1;32m    116\u001b[0m                 \u001b[0;31m# JVM exception message.\u001b[0m\u001b[0;34m\u001b[0m\u001b[0;34m\u001b[0m\u001b[0;34m\u001b[0m\u001b[0m\n\u001b[0;32m--> 117\u001b[0;31m                 \u001b[0;32mraise\u001b[0m \u001b[0mconverted\u001b[0m \u001b[0;32mfrom\u001b[0m \u001b[0;32mNone\u001b[0m\u001b[0;34m\u001b[0m\u001b[0;34m\u001b[0m\u001b[0m\n\u001b[0m\u001b[1;32m    118\u001b[0m             \u001b[0;32melse\u001b[0m\u001b[0;34m:\u001b[0m\u001b[0;34m\u001b[0m\u001b[0;34m\u001b[0m\u001b[0m\n\u001b[1;32m    119\u001b[0m                 \u001b[0;32mraise\u001b[0m\u001b[0;34m\u001b[0m\u001b[0;34m\u001b[0m\u001b[0m\n",
      "\u001b[0;31mAnalysisException\u001b[0m: Path does not exist: file:/media/easebuzz/DATA/Code/raw_files/YESNSTAT_01Jan 22_to_10Jan22.csv"
     ]
    }
   ],
   "source": [
    "statements = spark.read.csv(\"/media/easebuzz/DATA/Code/raw_files/YESNSTAT_01Jan 22_to_10Jan22.csv\",header=True)\n",
    "datafile.show(5)"
   ]
  },
  {
   "cell_type": "code",
   "execution_count": null,
   "metadata": {},
   "outputs": [
    {
     "name": "stderr",
     "output_type": "stream",
     "text": [
      "[Stage 36:>                                                         (0 + 1) / 1]\r"
     ]
    },
    {
     "name": "stdout",
     "output_type": "stream",
     "text": [
      "(707824, 1)\n"
     ]
    },
    {
     "name": "stderr",
     "output_type": "stream",
     "text": [
      "                                                                                \r"
     ]
    }
   ],
   "source": [
    "print((statements.count(), len(statements.columns)))"
   ]
  },
  {
   "cell_type": "code",
   "execution_count": null,
   "metadata": {},
   "outputs": [
    {
     "name": "stdout",
     "output_type": "stream",
     "text": [
      "+----------------------------+------------------+----------------+\n",
      "|unique_transaction_reference|transaction_amount|transaction_date|\n",
      "+----------------------------+------------------+----------------+\n",
      "|                202929339389|                 1|29-01-2022 15:56|\n",
      "|                202420152951|                 1|         55:36.0|\n",
      "|                202214786319|                48|         38:07.1|\n",
      "|                202101152051|                50|         12:29.0|\n",
      "|                201117820225|               200|         35:04.6|\n",
      "+----------------------------+------------------+----------------+\n",
      "only showing top 5 rows\n",
      "\n"
     ]
    }
   ],
   "source": [
    "ledger = spark.read.csv(\"/media/easebuzz/DATA/Code/raw_files/ledger_utr_data.csv\",header=True)\n",
    "ledger.show(5)"
   ]
  },
  {
   "cell_type": "code",
   "execution_count": null,
   "metadata": {},
   "outputs": [
    {
     "name": "stdout",
     "output_type": "stream",
     "text": [
      "(1048575, 3)\n"
     ]
    }
   ],
   "source": [
    "print((ledger.count(), len(ledger.columns)))"
   ]
  },
  {
   "cell_type": "markdown",
   "metadata": {},
   "source": [
    "# --------------------------------------------------------------------------------------------------------------"
   ]
  },
  {
   "cell_type": "code",
   "execution_count": null,
   "metadata": {},
   "outputs": [],
   "source": [
    "mark1 = spark.read.csv(\"/media/easebuzz/DATA/Code/raw_files/match1.csv\",header=True)\n",
    "mark1= mark1.select('Referance no')\n",
    "mark2 = spark.read.csv(\"/media/easebuzz/DATA/Code/raw_files/match2.csv\",header=True)\n",
    "mark2= mark2.select('Referance no')\n",
    "mark3 = spark.read.csv(\"/media/easebuzz/DATA/Code/raw_files/Match3.csv\",header=True)\n",
    "mark3= mark3.select('Referance no')\n",
    "mark4 = spark.read.csv(\"/media/easebuzz/DATA/Code/raw_files/Match4.csv\",header=True)\n",
    "mark4= mark4.select('Referance no')\n"
   ]
  },
  {
   "cell_type": "code",
   "execution_count": null,
   "metadata": {},
   "outputs": [],
   "source": [
    "disDF = mark1.union(mark2).distinct()\n",
    "disDF = disDF.union(mark3).distinct()\n",
    "disDF = disDF.union(mark4).distinct()"
   ]
  },
  {
   "cell_type": "code",
   "execution_count": null,
   "metadata": {},
   "outputs": [
    {
     "name": "stdout",
     "output_type": "stream",
     "text": [
      "root\n",
      " |-- Referance no: string (nullable = true)\n",
      "\n"
     ]
    }
   ],
   "source": [
    "disDF.printSchema()"
   ]
  },
  {
   "cell_type": "code",
   "execution_count": null,
   "metadata": {},
   "outputs": [
    {
     "name": "stdout",
     "output_type": "stream",
     "text": [
      "(1970, 1)\n"
     ]
    }
   ],
   "source": [
    "print((disDF.count(), len(disDF.columns)))"
   ]
  },
  {
   "cell_type": "code",
   "execution_count": null,
   "metadata": {},
   "outputs": [],
   "source": [
    "disDF.toPandas().to_csv('mymatchedcsv.csv')"
   ]
  },
  {
   "cell_type": "code",
   "execution_count": null,
   "metadata": {},
   "outputs": [],
   "source": [
    "mpr_file= spark.read.csv(\"/media/easebuzz/DATA/Code/raw_files/YESUPI_RECEIPT-Jan-2022.csv\",header=True)"
   ]
  },
  {
   "cell_type": "code",
   "execution_count": null,
   "metadata": {},
   "outputs": [
    {
     "name": "stdout",
     "output_type": "stream",
     "text": [
      "root\n",
      " |-- Transaction Date: string (nullable = true)\n",
      " |-- Description: string (nullable = true)\n",
      " |-- Amount: string (nullable = true)\n",
      " |-- C.D.Flag: string (nullable = true)\n",
      " |-- Ref .No: string (nullable = true)\n",
      " |-- Wire: string (nullable = true)\n",
      "\n"
     ]
    }
   ],
   "source": [
    "mpr_file.printSchema()"
   ]
  },
  {
   "cell_type": "code",
   "execution_count": null,
   "metadata": {},
   "outputs": [
    {
     "name": "stdout",
     "output_type": "stream",
     "text": [
      "['TransactionDate', 'Description', 'Amount', 'CDFlag', 'RefNo', 'Wire']\n"
     ]
    }
   ],
   "source": [
    "tempList = [] \n",
    "for col in mpr_file.columns:\n",
    "    new_name = col.strip()\n",
    "    new_name = \"\".join(new_name.split())\n",
    "    new_name = new_name.replace('.','') # EDIT\n",
    "    tempList.append(new_name) #Edit02\n",
    "print(tempList)\n",
    "mpr_file = mpr_file.toDF(*tempList)"
   ]
  },
  {
   "cell_type": "code",
   "execution_count": null,
   "metadata": {},
   "outputs": [],
   "source": [
    "selectedrows_mpr = mpr_file.select('RefNo')"
   ]
  },
  {
   "cell_type": "code",
   "execution_count": null,
   "metadata": {},
   "outputs": [],
   "source": [
    "matched_files= spark.read.csv(\"/media/easebuzz/DATA/Code/raw_files/mymatchedcsv.csv\",header=True)"
   ]
  },
  {
   "cell_type": "code",
   "execution_count": null,
   "metadata": {},
   "outputs": [
    {
     "name": "stdout",
     "output_type": "stream",
     "text": [
      "root\n",
      " |-- _c0: string (nullable = true)\n",
      " |-- Referance no: string (nullable = true)\n",
      "\n"
     ]
    }
   ],
   "source": [
    "matched_files.printSchema()"
   ]
  },
  {
   "cell_type": "code",
   "execution_count": null,
   "metadata": {},
   "outputs": [],
   "source": [
    "matched_files=matched_files.drop(\"_c0\")"
   ]
  },
  {
   "cell_type": "code",
   "execution_count": null,
   "metadata": {},
   "outputs": [
    {
     "name": "stdout",
     "output_type": "stream",
     "text": [
      "root\n",
      " |-- Referance no: string (nullable = true)\n",
      "\n"
     ]
    }
   ],
   "source": [
    "matched_files.printSchema()"
   ]
  },
  {
   "cell_type": "code",
   "execution_count": null,
   "metadata": {},
   "outputs": [],
   "source": [
    "matched_files=matched_files.select('Referance no')"
   ]
  },
  {
   "cell_type": "code",
   "execution_count": null,
   "metadata": {},
   "outputs": [],
   "source": [
    "#selectedrows_matched=matched_files.select('Transaction Descriprtion')"
   ]
  },
  {
   "cell_type": "code",
   "execution_count": null,
   "metadata": {},
   "outputs": [],
   "source": [
    "result=selectedrows_mpr.subtract(matched_files)"
   ]
  },
  {
   "cell_type": "code",
   "execution_count": null,
   "metadata": {},
   "outputs": [
    {
     "name": "stdout",
     "output_type": "stream",
     "text": [
      "(3147, 1)\n"
     ]
    }
   ],
   "source": [
    "print((result.count(), len(result.columns)))"
   ]
  },
  {
   "cell_type": "code",
   "execution_count": null,
   "metadata": {},
   "outputs": [],
   "source": [
    "result.toPandas().to_csv('unmatchedcsv.csv')"
   ]
  },
  {
   "cell_type": "markdown",
   "metadata": {},
   "source": [
    "# ------------------------------------------------------------------------------------------------------------------------------"
   ]
  },
  {
   "cell_type": "code",
   "execution_count": null,
   "metadata": {},
   "outputs": [],
   "source": [
    "unmatched_csv= spark.read.csv(\"/media/easebuzz/DATA/Code/raw_files/unmatched_pg.csv\",header=True)"
   ]
  },
  {
   "cell_type": "code",
   "execution_count": null,
   "metadata": {},
   "outputs": [
    {
     "name": "stdout",
     "output_type": "stream",
     "text": [
      "root\n",
      " |-- Transaction Date: string (nullable = true)\n",
      " |-- Value Date: string (nullable = true)\n",
      " |-- Transaction Description: string (nullable = true)\n",
      " |-- Referance no3: string (nullable = true)\n",
      " |-- Debit Amount: string (nullable = true)\n",
      " |-- Credit Amount: string (nullable = true)\n",
      " |-- Closing Balance6: string (nullable = true)\n",
      " |-- Remark: string (nullable = true)\n",
      " |-- Transaction Descriprtion: string (nullable = true)\n",
      " |-- Closing balance9: string (nullable = true)\n",
      " |-- Referance No10: string (nullable = true)\n",
      " |-- Status: string (nullable = true)\n",
      "\n"
     ]
    }
   ],
   "source": [
    "unmatched_csv.printSchema()"
   ]
  },
  {
   "cell_type": "code",
   "execution_count": null,
   "metadata": {},
   "outputs": [],
   "source": [
    "#df=df_states.withColumn('joined_column', sf.concat(sf.col('state_name'),sf.lit(' '),sf.col('state_code')))\n",
    "#df.show()"
   ]
  },
  {
   "cell_type": "code",
   "execution_count": null,
   "metadata": {},
   "outputs": [],
   "source": [
    "#unmatched_csv= unmatched_csv.withColumn('Transaction Date', sf.concat(sf.col('Transaction Date'),sf.lit(' '),sf.col('Transaction Date')))"
   ]
  },
  {
   "cell_type": "code",
   "execution_count": null,
   "metadata": {},
   "outputs": [],
   "source": [
    "#unmatched_csv.toPandas().to_csv('unmatchedcsv.csv')"
   ]
  },
  {
   "cell_type": "code",
   "execution_count": null,
   "metadata": {},
   "outputs": [],
   "source": [
    "from pyspark.sql.functions import concat, lit, col"
   ]
  },
  {
   "cell_type": "code",
   "execution_count": null,
   "metadata": {},
   "outputs": [],
   "source": [
    "#df1.toPandas().to_csv('unmatchedcsv.csv')"
   ]
  },
  {
   "cell_type": "code",
   "execution_count": null,
   "metadata": {},
   "outputs": [],
   "source": [
    "df1 = unmatched_csv.withColumnRenamed(\"Transaction Descriprtion\",\"Hello\")\n"
   ]
  },
  {
   "cell_type": "code",
   "execution_count": null,
   "metadata": {},
   "outputs": [
    {
     "name": "stdout",
     "output_type": "stream",
     "text": [
      "root\n",
      " |-- Transaction Date: string (nullable = true)\n",
      " |-- Value Date: string (nullable = true)\n",
      " |-- Transaction Description: string (nullable = true)\n",
      " |-- Referance no3: string (nullable = true)\n",
      " |-- Debit Amount: string (nullable = true)\n",
      " |-- Credit Amount: string (nullable = true)\n",
      " |-- Closing Balance6: string (nullable = true)\n",
      " |-- Remark: string (nullable = true)\n",
      " |-- Hello: string (nullable = true)\n",
      " |-- Closing balance9: string (nullable = true)\n",
      " |-- Referance No10: string (nullable = true)\n",
      " |-- Status: string (nullable = true)\n",
      "\n"
     ]
    }
   ],
   "source": [
    "df1.printSchema()"
   ]
  },
  {
   "cell_type": "code",
   "execution_count": null,
   "metadata": {},
   "outputs": [],
   "source": [
    "#df1 = unmatched_csv.withColumnRenamed(\"Transaction Descriprtion\",\"hello1\")\n",
    "\n",
    "#df1.select(concat(col(\"hello1\"), lit(\" \"), col(\"Hello\")))"
   ]
  },
  {
   "cell_type": "code",
   "execution_count": null,
   "metadata": {},
   "outputs": [
    {
     "ename": "SyntaxError",
     "evalue": "invalid syntax (2105765560.py, line 1)",
     "output_type": "error",
     "traceback": [
      "\u001b[0;36m  File \u001b[0;32m\"/tmp/ipykernel_3475/2105765560.py\"\u001b[0;36m, line \u001b[0;32m1\u001b[0m\n\u001b[0;31m    newDf =\u001b[0m\n\u001b[0m           ^\u001b[0m\n\u001b[0;31mSyntaxError\u001b[0m\u001b[0;31m:\u001b[0m invalid syntax\n"
     ]
    }
   ],
   "source": [
    "newDf =\n",
    "  df1.withColumn(\n",
    "    \"NEW_COLUMN\",\n",
    "    concat(\n",
    "      when(col(\"hello1\").isNotNull, col(\"hello1\")).otherwise(lit(\"null\")),\n",
    "      when(col(\"Hello\").isNotNull, col(\"Hello\")).otherwise(lit(\"null\"))))"
   ]
  },
  {
   "cell_type": "code",
   "execution_count": null,
   "metadata": {},
   "outputs": [],
   "source": [
    "#df1=df1.select(\"*\", concat(col(\"Transaction Descriprtion\"),col(\"Hello\")).alias(\"Final\"))\n",
    "#df1.show()"
   ]
  },
  {
   "cell_type": "markdown",
   "metadata": {},
   "source": [
    "# --------------------------------------------------------------------------------------------------------------------------------"
   ]
  },
  {
   "cell_type": "code",
   "execution_count": null,
   "metadata": {},
   "outputs": [],
   "source": [
    "from pyspark.sql.functions import regexp_replace, col\n",
    "from pyspark.sql.functions import split"
   ]
  },
  {
   "cell_type": "code",
   "execution_count": null,
   "metadata": {},
   "outputs": [],
   "source": [
    "bstatements = spark.read.csv(\"/media/easebuzz/DATA/Code/raw_files/Jan bank_stmt_final.csv\",header=True)"
   ]
  },
  {
   "cell_type": "code",
   "execution_count": null,
   "metadata": {},
   "outputs": [
    {
     "name": "stdout",
     "output_type": "stream",
     "text": [
      "(384, 14)\n"
     ]
    }
   ],
   "source": [
    "print((bstatements.count(), len(bstatements.columns)))"
   ]
  },
  {
   "cell_type": "code",
   "execution_count": null,
   "metadata": {},
   "outputs": [],
   "source": [
    "Neft_return = bstatements.filter(bstatements.transaction_description.startswith('NEFT-RETURN'))"
   ]
  },
  {
   "cell_type": "code",
   "execution_count": null,
   "metadata": {},
   "outputs": [
    {
     "name": "stdout",
     "output_type": "stream",
     "text": [
      "(25, 14)\n"
     ]
    }
   ],
   "source": [
    "print((Neft_return.count(), len(Neft_return.columns)))"
   ]
  },
  {
   "cell_type": "code",
   "execution_count": null,
   "metadata": {},
   "outputs": [],
   "source": [
    "Neft_return = Neft_return.withColumn(\"UTR\", split(col(\"transaction_description\"), \"-\").getItem(2))"
   ]
  },
  {
   "cell_type": "code",
   "execution_count": null,
   "metadata": {},
   "outputs": [
    {
     "name": "stdout",
     "output_type": "stream",
     "text": [
      "+----------------+--------------------+-----------------------+------------+-------------+---------------+-----------------+-------------------+-------+------+-------------+----------------+----+----+----------------+\n",
      "|transaction_date|          value_date|transaction_description|debit_amount|credit_amount|running_balance|pg_split_verified|wire_split_verified|product|reason|verified_flag|      split_part|_c12|_c13|             UTR|\n",
      "+----------------+--------------------+-----------------------+------------+-------------+---------------+-----------------+-------------------+-------+------+-------------+----------------+----+----+----------------+\n",
      "|         32:00.0|2022-01-07 00:00:...|   NEFT-RETURN-N0072...|        null|       198.87|    925681327.5|             null|               null|     PG|  null|            2|N007220948632326|null|null|N007220948632326|\n",
      "|         32:00.0|2022-01-07 00:00:...|   NEFT-RETURN-N0072...|        null|        97.01|      919515521|             null|               null|     PG|  null|            2|N007220948724257|null|null|N007220948724257|\n",
      "|         56:00.0|2022-01-06 00:00:...|   NEFT-RETURN-N0062...|        null|         2526|    722045134.5|             null|               null|   WIRE|  null|            2|N006220946917994|null|null|N006220946917994|\n",
      "|         37:00.0|2022-01-16 00:00:...|   NEFT-RETURN-N0162...|        null|   1993975.15|    777771115.9|             null|               null|   WIRE|  null|            2|N016220965009137|null|null|N016220965009137|\n",
      "|         11:00.0|2022-01-17 00:00:...|   NEFT-RETURN-N0172...|        null|        45000|      807787487|             null|               null|   WIRE|  null|            2|N017220966201581|null|null|N017220966201581|\n",
      "|         35:00.0|2022-01-27 00:00:...|   NEFT-RETURN-N0272...|        null|          500|      758354454|             null|               null|   WIRE|  null|            2|N027220981631230|null|null|N027220981631230|\n",
      "|         02:00.0|2022-01-27 00:00:...|   NEFT-RETURN-N0272...|        null|          100|    757147437.7|             null|               null|   WIRE|  null|            2|N027220981614492|null|null|N027220981614492|\n",
      "|         32:00.0|2022-01-20 00:00:...|   NEFT-RETURN-N0202...|        null|         5000|      773613986|             null|               null|   WIRE|  null|            2|N020220971565939|null|null|N020220971565939|\n",
      "|         51:00.0|2022-01-11 00:00:...|   NEFT-RETURN-N0102...|        null|         1001|    654019250.9|             null|               null|   WIRE|  null|            2|N010220954652072|null|null|N010220954652072|\n",
      "|         02:00.0|2022-01-24 00:00:...|   NEFT-RETURN-N0212...|        null|          100|    606849438.1|             null|               null|   WIRE|  null|            2|N021220971802403|null|null|N021220971802403|\n",
      "|         41:00.0|2022-01-27 00:00:...|   NEFT-RETURN-N0272...|        null|         9975|    813847596.5|             null|               null|   WIRE|  null|            2|N027220982246933|null|null|N027220982246933|\n",
      "|         10:00.0|2022-01-24 00:00:...|   NEFT-RETURN-N0242...|        null|         9000|    724095508.5|             null|               null|   WIRE|  null|            2|N024220977410237|null|null|N024220977410237|\n",
      "|         32:00.0|2022-01-24 00:00:...|   NEFT-RETURN-N0242...|        null|          500|      806452828|             null|               null|   WIRE|  null|            2|N024220977218762|null|null|N024220977218762|\n",
      "|         18:00.0|2022-01-03 00:00:...|   NEFT-RETURN-N0032...|        null|        20000|     1018984456|             null|               null|   WIRE|  null|            2|N003220939902773|null|null|N003220939902773|\n",
      "|         42:00.0|2022-01-24 00:00:...|   NEFT-RETURN-N0242...|        null|         1500|    747145606.8|             null|               null|   WIRE|  null|            2|N024220977360314|null|null|N024220977360314|\n",
      "|         35:00.0|2022-01-11 00:00:...|   NEFT-RETURN-N0112...|        null|        73000|    639273808.1|             null|               null|   WIRE|  null|            2|N011220955956614|null|null|N011220955956614|\n",
      "|         02:00.0|2022-01-18 00:00:...|   NEFT-RETURN-N0182...|        null|       139.43|    681062399.9|             null|               null|   WIRE|  null|            2|N018220967355423|null|null|N018220967355423|\n",
      "|         39:00.0|2022-01-18 00:00:...|   NEFT-RETURN-N0182...|        null|        10000|    702448405.7|             null|               null|   WIRE|  null|            2|N018220967414440|null|null|N018220967414440|\n",
      "|         02:00.0|2022-01-13 00:00:...|   NEFT-RETURN-N0132...|        null|         2000|      834005968|             null|               null|   WIRE|  null|            2|N013220960201725|null|null|N013220960201725|\n",
      "|         35:00.0|2022-01-12 00:00:...|   NEFT-RETURN-N0122...|        null|          100|      886341464|             null|               null|   WIRE|  null|            2|N012220958126008|null|null|N012220958126008|\n",
      "+----------------+--------------------+-----------------------+------------+-------------+---------------+-----------------+-------------------+-------+------+-------------+----------------+----+----+----------------+\n",
      "only showing top 20 rows\n",
      "\n"
     ]
    },
    {
     "name": "stderr",
     "output_type": "stream",
     "text": [
      "22/03/29 17:28:47 WARN CSVHeaderChecker: CSV header does not conform to the schema.\n",
      " Header: transaction_date, value_date, transaction_description, debit_amount, credit_amount, running_balance, pg_split_verified, wire_split_verified, product, reason, verified_flag, split_part, , \n",
      " Schema: transaction_date, value_date, transaction_description, debit_amount, credit_amount, running_balance, pg_split_verified, wire_split_verified, product, reason, verified_flag, split_part, _c12, _c13\n",
      "Expected: _c12 but found: \n",
      "CSV file: file:///media/easebuzz/DATA/Code/raw_files/Jan%20bank_stmt_final.csv\n"
     ]
    }
   ],
   "source": [
    "Neft_return.show()"
   ]
  },
  {
   "cell_type": "code",
   "execution_count": null,
   "metadata": {},
   "outputs": [],
   "source": [
    "TR = bstatements.filter(bstatements.transaction_description.startswith('tr'))"
   ]
  },
  {
   "cell_type": "code",
   "execution_count": null,
   "metadata": {},
   "outputs": [
    {
     "name": "stdout",
     "output_type": "stream",
     "text": [
      "(25, 14)\n"
     ]
    }
   ],
   "source": [
    "print((TR.count(), len(TR.columns)))"
   ]
  },
  {
   "cell_type": "code",
   "execution_count": null,
   "metadata": {},
   "outputs": [],
   "source": [
    "TR = TR.withColumn(\"UTR\", split(col(\"transaction_description\"), \"/\").getItem(0))"
   ]
  },
  {
   "cell_type": "code",
   "execution_count": null,
   "metadata": {},
   "outputs": [
    {
     "name": "stdout",
     "output_type": "stream",
     "text": [
      "+----------------+--------------------+-----------------------+------------+-------------+---------------+-----------------+-------------------+-------+------+-------------+----------+----+--------------------+--------------------+\n",
      "|transaction_date|          value_date|transaction_description|debit_amount|credit_amount|running_balance|pg_split_verified|wire_split_verified|product|reason|verified_flag|split_part|_c12|                _c13|                 UTR|\n",
      "+----------------+--------------------+-----------------------+------------+-------------+---------------+-----------------+-------------------+-------+------+-------------+----------+----+--------------------+--------------------+\n",
      "|         31:00.0|2022-01-21 00:00:...|   tr6e8cb25ded27491...|    2.41E+24|    339485.96|           null|      720607600.7|         PG Confirm|   null|  null|           PG|      null|   2|tr6e8cb25ded27491...|tr6e8cb25ded27491...|\n",
      "|         21:00.0|2022-01-21 00:00:...|   trf191d96f3220447...|    2.41E+24|    289196.86|           null|      694145723.1|         PG Confirm|   null|  null|           PG|      null|   2|trf191d96f3220447...|trf191d96f3220447...|\n",
      "|         40:00.0|2022-01-21 00:00:...|   tr87387dd9622144c...|    2.41E+24|   3013310.55|           null|      767439599.5|         PG Confirm|   null|  null|           PG|      null|   2|tr87387dd9622144c...|tr87387dd9622144c...|\n",
      "|         30:00.0|2022-01-21 00:00:...|   tr550e9460d3aa412...|    2.41E+24|     558823.7|           null|      742891517.7|         PG Confirm|   null|  null|           PG|      null|   2|tr550e9460d3aa412...|tr550e9460d3aa412...|\n",
      "|         40:00.0|2022-01-21 00:00:...|   tr8cb14e7e9ae4473...|    2.41E+24|    256412.01|           null|        808584051|         PG Confirm|   null|  null|           PG|      null|   2|tr8cb14e7e9ae4473...|tr8cb14e7e9ae4473...|\n",
      "|         26:00.0|2022-01-16 00:00:...|   tr985e8db2e86a474...|    2.41E+24|        98938|           null|      785009883.8|         PG Confirm|   null|  null|           PG|      null|   2|tr985e8db2e86a474...|tr985e8db2e86a474...|\n",
      "|         25:00.0|2022-01-16 00:00:...|   trc0d2e467083d477...|    2.41E+24|    963110.73|           null|        829321033|         PG Confirm|   null|  null|           PG|      null|   2|trc0d2e467083d477...|trc0d2e467083d477...|\n",
      "|         25:00.0|2022-01-16 00:00:...|   trd0abac67fa0944f...|    2.41E+24|    197789.93|           null|      797126966.5|         PG Confirm|   null|  null|           PG|      null|   2|trd0abac67fa0944f...|trd0abac67fa0944f...|\n",
      "|         41:00.0|2022-01-27 00:00:...|   tr009ffbc04e8f4d8...|    2.41E+24|      59221.2|           null|      747488414.4|         PG Confirm|   null|  null|           PG|      null|   2|tr009ffbc04e8f4d8...|tr009ffbc04e8f4d8...|\n",
      "|         30:00.0|2022-01-27 00:00:...|   tr18069101cfa842c...|    2.41E+24|    338462.98|           null|      835225372.6|         PG Confirm|   null|  null|           PG|      null|   2|tr18069101cfa842c...|tr18069101cfa842c...|\n",
      "|         33:00.0|2022-01-27 00:00:...|   trf1ecb271df44473...|    2.41E+24|    841148.56|           null|      825637094.3|         PG Confirm|   null|  null|           PG|      null|   2|trf1ecb271df44473...|trf1ecb271df44473...|\n",
      "|         40:00.0|2022-01-27 00:00:...|   tr8f29ee7244c0435...|    2.41E+24|    572686.68|           null|      756295344.2|         PG Confirm|   null|  null|           PG|      null|   2|tr8f29ee7244c0435...|tr8f29ee7244c0435...|\n",
      "|         30:00.0|2022-01-27 00:00:...|   trf2a8739fff64430...|    2.41E+24|    414055.53|           null|      781391161.4|         PG Confirm|   null|  null|           PG|      null|   2|trf2a8739fff64430...|trf2a8739fff64430...|\n",
      "|         39:00.0|2022-01-07 00:00:...|   tr37891f99844f4ff...|    2.41E+24|    251423.22|           null|      798241861.1|         PG Confirm|   null|  null|           PG|      null|   2|tr37891f99844f4ff...|tr37891f99844f4ff...|\n",
      "|         20:00.0|2022-01-22 00:00:...|   tr3526af5a154e481...|    2.41E+24|    577868.31|           null|      785667677.1|         PG Confirm|   null|  null|           PG|      null|   2|tr3526af5a154e481...|tr3526af5a154e481...|\n",
      "|         25:00.0|2022-01-22 00:00:...|   tr6b4fc40d4ad64bf...|    2.41E+24|    469912.96|           null|      669621960.2|         PG Confirm|   null|  null|           PG|      null|   2|tr6b4fc40d4ad64bf...|tr6b4fc40d4ad64bf...|\n",
      "|         25:00.0|2022-01-17 00:00:...|   tre7163bb67937424...|    2.41E+24|     212716.7|           null|        717249969|         PG Confirm|   null|  null|           PG|      null|   2|tre7163bb67937424...|tre7163bb67937424...|\n",
      "|         39:00.0|2022-01-07 00:00:...|   tr1d128ce95e654e7...|    2.41E+24|   4521334.56|           null|      792227577.8|         PG Confirm|   null|  null|           PG|      null|   2|tr1d128ce95e654e7...|tr1d128ce95e654e7...|\n",
      "|         39:00.0|2022-01-07 00:00:...|   tra5cd649ad9584f5...|    2.41E+24|   1325792.24|           null|      796748912.4|         PG Confirm|   null|  null|           PG|      null|   2|tra5cd649ad9584f5...|tra5cd649ad9584f5...|\n",
      "|         25:00.0|2022-01-07 00:00:...|   trdf0f40a841f7408...|    2.41E+24|       195814|           null|        638691865|         PG Confirm|   null|  null|           PG|      null|   2|trdf0f40a841f7408...|trdf0f40a841f7408...|\n",
      "+----------------+--------------------+-----------------------+------------+-------------+---------------+-----------------+-------------------+-------+------+-------------+----------+----+--------------------+--------------------+\n",
      "only showing top 20 rows\n",
      "\n"
     ]
    },
    {
     "name": "stderr",
     "output_type": "stream",
     "text": [
      "22/03/29 17:36:54 WARN CSVHeaderChecker: CSV header does not conform to the schema.\n",
      " Header: transaction_date, value_date, transaction_description, debit_amount, credit_amount, running_balance, pg_split_verified, wire_split_verified, product, reason, verified_flag, split_part, , \n",
      " Schema: transaction_date, value_date, transaction_description, debit_amount, credit_amount, running_balance, pg_split_verified, wire_split_verified, product, reason, verified_flag, split_part, _c12, _c13\n",
      "Expected: _c12 but found: \n",
      "CSV file: file:///media/easebuzz/DATA/Code/raw_files/Jan%20bank_stmt_final.csv\n"
     ]
    }
   ],
   "source": [
    "TR.show()"
   ]
  },
  {
   "cell_type": "code",
   "execution_count": null,
   "metadata": {},
   "outputs": [],
   "source": [
    "twentytwo = bstatements.filter(bstatements.transaction_description.startswith('2022'))"
   ]
  },
  {
   "cell_type": "code",
   "execution_count": null,
   "metadata": {},
   "outputs": [
    {
     "name": "stdout",
     "output_type": "stream",
     "text": [
      "(25, 14)\n"
     ]
    }
   ],
   "source": [
    "print((twentytwo.count(), len(twentytwo.columns)))"
   ]
  },
  {
   "cell_type": "code",
   "execution_count": null,
   "metadata": {},
   "outputs": [],
   "source": [
    "twentytwo = twentytwo.withColumn(\"UTR\", split(col(\"transaction_description\"), \"/\").getItem(0))"
   ]
  },
  {
   "cell_type": "code",
   "execution_count": null,
   "metadata": {},
   "outputs": [
    {
     "name": "stdout",
     "output_type": "stream",
     "text": [
      "+----------------+--------------------+-----------------------+------------+-------------+---------------+-----------------+-------------------+-------+------+-------------+----------+----+-----------+--------------------+\n",
      "|transaction_date|          value_date|transaction_description|debit_amount|credit_amount|running_balance|pg_split_verified|wire_split_verified|product|reason|verified_flag|split_part|_c12|       _c13|                 UTR|\n",
      "+----------------+--------------------+-----------------------+------------+-------------+---------------+-----------------+-------------------+-------+------+-------------+----------+----+-----------+--------------------+\n",
      "|         34:00.0|2022-01-21 00:00:...|   20220121281709364...|    2.41E+24|      1357600|           null|      713530325.1|               null|   null|  null|         null|      null|null|2.02201E+31|20220121281709364...|\n",
      "|         00:00.0|2022-01-21 00:00:...|   20220121685278152...|    2.41E+24|        16953|           null|      691062767.6|               null|   null|  null|         null|      null|null|2.02201E+31|20220121685278152...|\n",
      "|         00:00.0|2022-01-21 00:00:...|   20220121733736360...|    2.41E+24|         6706|           null|      870634028.1|               null|   null|  null|         null|      null|null|2.02201E+31|20220121733736360...|\n",
      "|         00:00.0|2022-01-21 00:00:...|   20220121534673580...|    2.41E+24|       486075|           null|      812114698.1|               null|   null|  null|         null|      null|null|2.02201E+31|20220121534673580...|\n",
      "|         43:00.0|2022-01-21 00:00:...|   20220121979545300...|    2.41E+24|        80200|           null|      761481723.3|               null|   null|  null|         null|      null|null|2.02201E+31|20220121979545300...|\n",
      "|         58:00.0|2022-01-15 00:00:...|   20220115915373397...|    2.41E+24|           13|           null|      826161504.9|               null|   null|  null|         null|      null|null|2.02201E+31|20220115915373397...|\n",
      "|         45:00.0|2022-01-15 00:00:...|   20220115130568313...|    2.41E+24|       126000|           null|      818609338.2|               null|   null|  null|         null|      null|null|2.02201E+31|20220115130568313...|\n",
      "|         07:00.0|2022-01-26 00:00:...|   20220126896551201...|    2.41E+24|      1182000|           null|      836458962.6|               null|   null|  null|         null|      null|null|2.02201E+31|20220126896551201...|\n",
      "|         06:00.0|2022-01-21 00:00:...|   20220121299505048...|    2.41E+24|       100000|           null|      764928005.3|               null|   null|  null|         null|      null|null|2.02201E+31|20220121299505048...|\n",
      "|         22:00.0|2022-01-16 00:00:...|   20220116264507308...|    2.41E+24|       100000|           null|      765740847.8|               null|   null|  null|         null|      null|null|2.02201E+31|20220116264507308...|\n",
      "|         00:00.0|2022-01-26 00:00:...|   20220126727739287...|    2.41E+24|        22487|           null|      828865793.8|               null|   null|  null|         null|      null|null|2.02201E+31|20220126727739287...|\n",
      "|         08:00.0|2022-01-06 00:00:...|   20220106522842894...|    2.41E+24|        69589|           null|      729100686.1|               null|   null|  null|         null|      null|null|2.02201E+31|20220106522842894...|\n",
      "|         28:00.0|2022-01-26 00:00:...|   20220126743079070...|    2.41E+24|       915050|           null|      801452572.3|               null|   null|  null|         null|      null|null|2.02201E+31|20220126743079070...|\n",
      "|         08:00.0|2022-01-06 00:00:...|   20220106186157369...|    2.41E+24|         4503|           null|      729380846.1|               null|   null|  null|         null|      null|null|2.02201E+31|20220106186157369...|\n",
      "|         08:00.0|2022-01-16 00:00:...|   20220116104672613...|    2.41E+24|      1020110|           null|      759593793.7|               null|   null|  null|         null|      null|null|2.02201E+31|20220116104672613...|\n",
      "|         00:00.0|2022-01-16 00:00:...|   20220116744115453...|    2.41E+24|        15118|           null|      755662242.3|               null|   null|  null|         null|      null|null|2.02201E+31|20220116744115453...|\n",
      "|         07:00.0|2022-01-06 00:00:...|   20220106653454373...|    2.41E+24|       456000|           null|      811546569.7|               null|   null|  null|         null|      null|null|2.02201E+31|20220106653454373...|\n",
      "|         33:00.0|2022-01-27 00:00:...|   20220127489064502...|    2.41E+24|       183859|           null|      833972918.3|               null|   null|  null|         null|      null|null|2.02201E+31|20220127489064502...|\n",
      "|         19:00.0|2022-01-16 00:00:...|   20220116615599140...|    2.41E+24|       106500|           null|      834283904.7|               null|   null|  null|         null|      null|null|2.02201E+31|20220116615599140...|\n",
      "|         23:00.0|2022-01-07 00:00:...|   20220107893319030...|    2.41E+24|       708000|           null|        655633624|               null|   null|  null|         null|      null|null|2.02201E+31|20220107893319030...|\n",
      "+----------------+--------------------+-----------------------+------------+-------------+---------------+-----------------+-------------------+-------+------+-------------+----------+----+-----------+--------------------+\n",
      "only showing top 20 rows\n",
      "\n"
     ]
    },
    {
     "name": "stderr",
     "output_type": "stream",
     "text": [
      "22/03/29 18:04:34 WARN CSVHeaderChecker: CSV header does not conform to the schema.\n",
      " Header: transaction_date, value_date, transaction_description, debit_amount, credit_amount, running_balance, pg_split_verified, wire_split_verified, product, reason, verified_flag, split_part, , \n",
      " Schema: transaction_date, value_date, transaction_description, debit_amount, credit_amount, running_balance, pg_split_verified, wire_split_verified, product, reason, verified_flag, split_part, _c12, _c13\n",
      "Expected: _c12 but found: \n",
      "CSV file: file:///media/easebuzz/DATA/Code/raw_files/Jan%20bank_stmt_final.csv\n"
     ]
    }
   ],
   "source": [
    "twentytwo.show()"
   ]
  },
  {
   "cell_type": "code",
   "execution_count": null,
   "metadata": {},
   "outputs": [],
   "source": [
    "pre_test= bstatements.filter(bstatements.transaction_description.startswith('PRE'))"
   ]
  },
  {
   "cell_type": "code",
   "execution_count": null,
   "metadata": {},
   "outputs": [
    {
     "name": "stdout",
     "output_type": "stream",
     "text": [
      "(11, 14)\n"
     ]
    }
   ],
   "source": [
    "print((pre_test.count(), len(pre_test.columns)))"
   ]
  },
  {
   "cell_type": "code",
   "execution_count": null,
   "metadata": {},
   "outputs": [],
   "source": [
    "pre_test = pre_test.withColumn(\"UTR\", split(col(\"transaction_description\"), \" \").getItem(2))"
   ]
  },
  {
   "cell_type": "code",
   "execution_count": null,
   "metadata": {},
   "outputs": [
    {
     "name": "stdout",
     "output_type": "stream",
     "text": [
      "+----------------+--------------------+-----------------------+------------+-------------+---------------+-----------------+-------------------+-------+------+-------------+----------+----+----+-------------+\n",
      "|transaction_date|          value_date|transaction_description|debit_amount|credit_amount|running_balance|pg_split_verified|wire_split_verified|product|reason|verified_flag|split_part|_c12|_c13|          UTR|\n",
      "+----------------+--------------------+-----------------------+------------+-------------+---------------+-----------------+-------------------+-------+------+-------------+----------+----+----+-------------+\n",
      "|         29:00.0|2022-01-19 00:00:...|   PRE ARB 135872813361|    1.36E+11|          100|           null|      745679466.6|               null|   null|  null|           PG|      null|   2|null| 135872813361|\n",
      "|         29:00.0|2022-01-19 00:00:...|   PRE ARB 135887091009|    1.36E+11|        15000|           null|      745656946.6|               null|   null|  null|           PG|      null|   2|null| 135887091009|\n",
      "|         29:00.0|2022-01-19 00:00:...|   PRE ARB 135800940187|    1.36E+11|         5000|           null|      745674466.6|               null|   null|  null|           PG|      null|   2|null| 135800940187|\n",
      "|         10:00.0|2022-01-04 00:00:...|   PRE ARB :13211511...| 1.32115E+11|           10|           null|        781363946|         PG Confirm|   null|  null|           PG|      null|   2|null|:132115111280|\n",
      "|         16:00.0|2022-01-18 00:00:...|   PRE ARB 135863659677|    1.36E+11|          300|           null|      890757724.4|               null|   null|  null|           PG|      null|   2|null| 135863659677|\n",
      "|         29:00.0|2022-01-19 00:00:...|   PRE ARB 135827352692|    1.36E+11|           10|           null|      745674446.6|               null|   null|  null|           PG|      null|   2|null| 135827352692|\n",
      "|         29:00.0|2022-01-19 00:00:...|   PRE ARB 135879830347|    1.36E+11|           10|           null|      745674456.6|               null|   null|  null|           PG|      null|   2|null| 135879830347|\n",
      "|         48:00.0|2022-01-15 00:00:...|   PRE ARB:135964729611|    1.36E+11|         3000|           null|      826939025.2|               null|   null|  null|           PG|      null|   2|null|         null|\n",
      "|         29:00.0|2022-01-19 00:00:...|   PRE ARB 136417673272|    1.36E+11|         2500|           null|      745671946.6|               null|   null|  null|           PG|      null|   2|null| 136417673272|\n",
      "|         29:00.0|2022-01-19 00:00:...|   PRE ARB 135845221792|    1.36E+11|          128|           null|      745679566.6|               null|   null|  null|           PG|      null|   2|null| 135845221792|\n",
      "|         29:00.0|2022-01-19 00:00:...|   PRE ARB 135885030910|    1.36E+11|          500|           null|      745679694.6|               null|   null|  null|           PG|      null|   2|null| 135885030910|\n",
      "+----------------+--------------------+-----------------------+------------+-------------+---------------+-----------------+-------------------+-------+------+-------------+----------+----+----+-------------+\n",
      "\n"
     ]
    },
    {
     "name": "stderr",
     "output_type": "stream",
     "text": [
      "22/03/29 18:23:44 WARN CSVHeaderChecker: CSV header does not conform to the schema.\n",
      " Header: transaction_date, value_date, transaction_description, debit_amount, credit_amount, running_balance, pg_split_verified, wire_split_verified, product, reason, verified_flag, split_part, , \n",
      " Schema: transaction_date, value_date, transaction_description, debit_amount, credit_amount, running_balance, pg_split_verified, wire_split_verified, product, reason, verified_flag, split_part, _c12, _c13\n",
      "Expected: _c12 but found: \n",
      "CSV file: file:///media/easebuzz/DATA/Code/raw_files/Jan%20bank_stmt_final.csv\n"
     ]
    }
   ],
   "source": [
    "pre_test.show()"
   ]
  },
  {
   "cell_type": "markdown",
   "metadata": {},
   "source": [
    "# --------------------------------------------------------------------------------------------------------------------------------"
   ]
  },
  {
   "cell_type": "code",
   "execution_count": 37,
   "metadata": {},
   "outputs": [],
   "source": [
    "receipt_new = spark.read.csv(\"/media/easebuzz/DATA/Code/raw_files/YESUPI_RECEIPT-Jan-2022.csv\",header=True)"
   ]
  },
  {
   "cell_type": "code",
   "execution_count": 38,
   "metadata": {},
   "outputs": [
    {
     "name": "stdout",
     "output_type": "stream",
     "text": [
      "+-------------------+--------------------+------------+--------+--------------------+-------+\n",
      "|   Transaction Date|         Description|      Amount|C.D.Flag|             Ref .No|   Wire|\n",
      "+-------------------+--------------------+------------+--------+--------------------+-------+\n",
      "|2022-01-01 11:55:00|UPI EASEBUZZ PVT ...| 118180510.1|       C|                null|1214392|\n",
      "|2022-01-01 11:31:00|RTGS Cr-ICIC00001...|  3747053.52|       C|ICICR220220101000...|   null|\n",
      "|2022-01-01 11:31:00|RTGS Cr-ICIC00001...|  2229021.41|       C|ICICR220220101000...|   null|\n",
      "|2022-01-02 00:00:00|UPI Transaction d...|119158649.85|       C|                null|1442203|\n",
      "|2022-01-02 00:00:00|          YES CARD-1|  3263475.11|       C|                null|   null|\n",
      "|2022-01-02 00:00:00|          YES CARD-2| 12085683.24|       C|                null|   null|\n",
      "|2022-01-03 00:00:00|          YES CARD-1|  3547723.42|       C|                null|   null|\n",
      "|2022-01-03 00:00:00|          YES CARD-2| 12901925.55|       C|                null|   null|\n",
      "|2022-01-01 00:00:00|              YES NB|     18500.0|       C|                null|   null|\n",
      "|2022-01-02 00:00:00|              YES NB|     28748.0|       C|                null|   null|\n",
      "|2022-01-03 00:00:00|EBZ Yes BIN Spons...| 10559258.57|       C|                null|   null|\n",
      "|2022-01-03 00:00:00|EBZ Yes BIN Spons...|  5188257.19|       C|                null|   null|\n",
      "|2022-01-03 00:00:00|EBZ Yes BIN Spons...|  3774005.26|       C|                null|   null|\n",
      "|2022-01-03 00:00:00|RTGS Cr-ICIC00001...|  3809649.24|       C|ICICR220220103000...|   null|\n",
      "|2022-01-03 00:00:00|RTGS Cr-ICIC00001...|  3594473.26|       C|ICICR220220103000...|   null|\n",
      "|2022-01-03 00:00:00|          YES CARD-1|  13767760.4|       C|                null|   null|\n",
      "|2022-01-03 00:00:00|          YES CARD-2| 12880222.54|       C|                null|   null|\n",
      "|2022-01-03 00:00:00|UPI Transaction d...| 124033050.4|       C|                null|1781558|\n",
      "|2022-01-03 00:00:00|RTGS Cr-ICIC00001...|  1019832.09|       C|ICICR220220103000...|   null|\n",
      "|2022-01-03 00:00:00|RTGS Cr-ICIC00001...|  2004583.49|       C|ICICR220220103000...|   null|\n",
      "+-------------------+--------------------+------------+--------+--------------------+-------+\n",
      "only showing top 20 rows\n",
      "\n"
     ]
    }
   ],
   "source": [
    "receipt_new.show()"
   ]
  },
  {
   "cell_type": "code",
   "execution_count": 39,
   "metadata": {},
   "outputs": [
    {
     "name": "stdout",
     "output_type": "stream",
     "text": [
      "['TransactionDate', 'Description', 'Amount', 'CDFlag', 'RefNo', 'Wire']\n"
     ]
    }
   ],
   "source": [
    "tempList = [] \n",
    "for col in receipt_new.columns:\n",
    "    new_name = col.strip()\n",
    "    new_name = \"\".join(new_name.split())\n",
    "    new_name = new_name.replace('.','') # EDIT\n",
    "    tempList.append(new_name) #Edit02\n",
    "print(tempList)\n",
    "receipt_new = receipt_new.toDF(*tempList)"
   ]
  },
  {
   "cell_type": "code",
   "execution_count": 41,
   "metadata": {},
   "outputs": [],
   "source": [
    "receipt_new= receipt_new.select('RefNo')"
   ]
  },
  {
   "cell_type": "code",
   "execution_count": 42,
   "metadata": {},
   "outputs": [
    {
     "name": "stdout",
     "output_type": "stream",
     "text": [
      "root\n",
      " |-- RefNo: string (nullable = true)\n",
      "\n"
     ]
    }
   ],
   "source": [
    "receipt_new.printSchema()"
   ]
  },
  {
   "cell_type": "code",
   "execution_count": 43,
   "metadata": {},
   "outputs": [],
   "source": [
    "bankstatement1= spark.read.options(header = True,delimiter='|') \\\n",
    ".csv(\"/media/easebuzz/DATA/Code/raw_files/YESNSTAT_01Jan 22_to_10Jan22 .csv\")\n",
    "\n",
    "bankstatement2= spark.read.options(header = True,delimiter='|') \\\n",
    ".csv(\"/media/easebuzz/DATA/Code/raw_files/YESNSTAT_11Jan_to_20Jan22.csv\")\n",
    "\n",
    "bankstatement3= spark.read.options(header = True,delimiter='|') \\\n",
    ".csv(\"/media/easebuzz/DATA/Code/raw_files/YESNSTAT_21Jan_to_31Jan22.csv\")"
   ]
  },
  {
   "cell_type": "code",
   "execution_count": 44,
   "metadata": {},
   "outputs": [
    {
     "name": "stderr",
     "output_type": "stream",
     "text": [
      "[Stage 333:============================>                            (2 + 1) / 4]\r"
     ]
    },
    {
     "name": "stdout",
     "output_type": "stream",
     "text": [
      "2434468\n"
     ]
    },
    {
     "name": "stderr",
     "output_type": "stream",
     "text": [
      "                                                                                \r"
     ]
    }
   ],
   "source": [
    "disDF = bankstatement1.union(bankstatement2).distinct()\n",
    "disDF = disDF.union(bankstatement3).distinct()\n",
    "#disDF = disDF.union(mark4).distinct()\n",
    "print(disDF.count())"
   ]
  },
  {
   "cell_type": "code",
   "execution_count": 45,
   "metadata": {},
   "outputs": [
    {
     "name": "stdout",
     "output_type": "stream",
     "text": [
      "root\n",
      " |-- Transaction Date: string (nullable = true)\n",
      " |-- Value Date: string (nullable = true)\n",
      " |-- Transaction Description: string (nullable = true)\n",
      " |-- Referance no: string (nullable = true)\n",
      " |-- Debit Amount: string (nullable = true)\n",
      " |-- Credit Amount: string (nullable = true)\n",
      " |-- Closing Balance: string (nullable = true)\n",
      " |-- Remark: string (nullable = true)\n",
      "\n"
     ]
    }
   ],
   "source": [
    "disDF.printSchema()"
   ]
  },
  {
   "cell_type": "code",
   "execution_count": 46,
   "metadata": {},
   "outputs": [
    {
     "name": "stdout",
     "output_type": "stream",
     "text": [
      "['TransactionDate', 'ValueDate', 'TransactionDescription', 'Referanceno', 'DebitAmount', 'CreditAmount', 'ClosingBalance', 'Remark']\n"
     ]
    }
   ],
   "source": [
    "tempList = [] \n",
    "for col in disDF.columns:\n",
    "    new_name = col.strip()\n",
    "    new_name = \"\".join(new_name.split())\n",
    "    new_name = new_name.replace('.','') # EDIT\n",
    "    tempList.append(new_name) #Edit02\n",
    "print(tempList)\n",
    "disDF = disDF.toDF(*tempList)"
   ]
  },
  {
   "cell_type": "code",
   "execution_count": 47,
   "metadata": {},
   "outputs": [],
   "source": [
    "upi = disDF.filter(disDF.TransactionDescription.startswith('UPI/'))\n",
    "upi = upi.withColumn(\"UTR\", split(sf.col(\"TransactionDescription\"), \"/\").getItem(1))\n",
    "upi_final_df = upi.select('TransactionDescription','UTR')"
   ]
  },
  {
   "cell_type": "code",
   "execution_count": 48,
   "metadata": {},
   "outputs": [
    {
     "name": "stdout",
     "output_type": "stream",
     "text": [
      "root\n",
      " |-- TransactionDescription: string (nullable = true)\n",
      " |-- UTR: string (nullable = true)\n",
      "\n"
     ]
    }
   ],
   "source": [
    "upi_final_df.printSchema()"
   ]
  },
  {
   "cell_type": "code",
   "execution_count": 50,
   "metadata": {},
   "outputs": [
    {
     "name": "stderr",
     "output_type": "stream",
     "text": [
      "[Stage 343:==================================>                      (3 + 1) / 5]\r"
     ]
    },
    {
     "name": "stdout",
     "output_type": "stream",
     "text": [
      "178927\n"
     ]
    },
    {
     "name": "stderr",
     "output_type": "stream",
     "text": [
      "                                                                                \r"
     ]
    }
   ],
   "source": [
    "print(upi_final_df.count())"
   ]
  },
  {
   "cell_type": "code",
   "execution_count": 51,
   "metadata": {},
   "outputs": [],
   "source": [
    "Matched=upi_final_df.join(receipt_new,upi_final_df.UTR == receipt_new.RefNo,\"inner\")\n"
   ]
  },
  {
   "cell_type": "code",
   "execution_count": 52,
   "metadata": {},
   "outputs": [
    {
     "name": "stderr",
     "output_type": "stream",
     "text": [
      "                                                                                \r"
     ]
    },
    {
     "data": {
      "text/plain": [
       "5029"
      ]
     },
     "execution_count": 52,
     "metadata": {},
     "output_type": "execute_result"
    }
   ],
   "source": [
    "Matched.count()"
   ]
  },
  {
   "cell_type": "code",
   "execution_count": 53,
   "metadata": {},
   "outputs": [
    {
     "name": "stderr",
     "output_type": "stream",
     "text": [
      "                                                                                \r"
     ]
    },
    {
     "name": "stdout",
     "output_type": "stream",
     "text": [
      "Distinct count: 5029\n"
     ]
    },
    {
     "name": "stderr",
     "output_type": "stream",
     "text": [
      "[Stage 368:==================================>                      (3 + 1) / 5]\r"
     ]
    },
    {
     "name": "stdout",
     "output_type": "stream",
     "text": [
      "+-------------------------------------------------------------------------------------------------------------+------------+------------+\n",
      "|TransactionDescription                                                                                       |UTR         |RefNo       |\n",
      "+-------------------------------------------------------------------------------------------------------------+------------+------------+\n",
      "|UPI/200381254248/RWU5SAUJNY/From:q2pay@yesbank/To:9711168923@ybl/Easebuzz                                    |200381254248|200381254248|\n",
      "|UPI/201502695861/R15JANK17RUNH3VT/From:rummygoldrackbrainapp@yesbank/To:anuragverma7080508304@okaxis/Easebuzz|201502695861|201502695861|\n",
      "|UPI/201807564159/R18JANKOKHE8RSFE/From:rummymastergameinn@yesbank/To:sarojachandfule5@okaxis/Easebuzz        |201807564159|201807564159|\n",
      "|UPI/201502699641/R15JAN201465932697/From:rummymastergameinn@yesbank/To:7896587579@paytm/Easebuzz             |201502699641|201502699641|\n",
      "|UPI/201705710958/R17JANK8EZG1NTSA/From:rummygoldrackbrainapp@yesbank/To:rnaik6291-1@oksbi/Easebuzz           |201705710958|201705710958|\n",
      "|UPI/201399618538/R13JANKM3C22VYV5/From:rummymastergameinn@yesbank/To:poona7389287757@paytm/Easebuzz          |201399618538|201399618538|\n",
      "|UPI/201502696016/R15JANK0NU08XLVF/From:rummymastergameinn@yesbank/To:6396303682@apl/Easebuzz                 |201502696016|201502696016|\n",
      "|UPI/201298052153/R12JANKE0MSR44Z9/From:Crepoly@yesbank/To:7619131932@ybl/Easebuzz                            |201298052153|201298052153|\n",
      "|UPI/201399620290/R13JANKX02YERD8U/From:VplusTechnology@yesbank/To:8802906337@ybl/Easebuzz                    |201399620290|201399620290|\n",
      "|UPI/201196073333/R11JANKIALWF44XZ/From:rummygoldrackbrainapp@yesbank/To:binod227@axl/Easebuzz                |201196073333|201196073333|\n",
      "|UPI/201298048244/R12JANK0KIL3GMJJ/From:LigtooTech@yesbank/To:96357964321@ybl/Easebuzz                        |201298048244|201298048244|\n",
      "|UPI/201196076920/R11JAN201079101883/From:rmgrummycom@yesbank/To:8586873069@paytm/Easebuzz                    |201196076920|201196076920|\n",
      "|UPI/201401098078/R14JANKSWUBQHUIR/From:teenpattiflash@yesbank/To:9650802794@ybl/Easebuzz                     |201401098078|201401098078|\n",
      "|UPI/201807562907/R18JANKKVHEB28M5/From:pavillionwarcom@yesbank/To:karunesh.sharma1@ybl/Easebuzz              |201807562907|201807562907|\n",
      "|UPI/201401099116/R14JAN201309124444/From:teenpattiflash@yesbank/To:9883876104@jio/Easebuzz                   |201401099116|201401099116|\n",
      "|UPI/201298050321/R12JANKAXHE8SUOI/From:rummymastergameinn@yesbank/To:9547308653@ybl/Easebuzz                 |201298050321|201298050321|\n",
      "|UPI/202826862011/R28JANK3C23ZCFTL/From:rummygoldrackbrainapp@yesbank/To:8319100573504@paytm/Easebuzz         |202826862011|202826862011|\n",
      "|UPI/202826864435/R28JANKS42PYEVXP/From:teenpattiflash@yesbank/To:ajayrana17559@oksbi/Easebuzz                |202826864435|202826864435|\n",
      "|UPI/202826864193/R28JANKPFSE8SY3E/From:RummyReal@yesbank/To:8577099692@paytm/Easebuzz                        |202826864193|202826864193|\n",
      "|UPI/202826863945/R28JANKVVIOI8G6D/From:rummymastergameinn@yesbank/To:rahulchavan64317@okicici/Easebuzz       |202826863945|202826863945|\n",
      "+-------------------------------------------------------------------------------------------------------------+------------+------------+\n",
      "only showing top 20 rows\n",
      "\n"
     ]
    },
    {
     "name": "stderr",
     "output_type": "stream",
     "text": [
      "                                                                                \r"
     ]
    }
   ],
   "source": [
    "distinctDF = Matched.distinct()\n",
    "print(\"Distinct count: \"+str(distinctDF.count()))\n",
    "distinctDF.show(truncate=False)"
   ]
  },
  {
   "cell_type": "markdown",
   "metadata": {},
   "source": [
    "# ----------------------------------------------------------------------------------------------------------------------------"
   ]
  },
  {
   "cell_type": "code",
   "execution_count": null,
   "metadata": {},
   "outputs": [],
   "source": [
    "receipt_new= receipt_new.select('Description')"
   ]
  },
  {
   "cell_type": "code",
   "execution_count": null,
   "metadata": {},
   "outputs": [
    {
     "name": "stdout",
     "output_type": "stream",
     "text": [
      "5283\n"
     ]
    }
   ],
   "source": [
    "print(receipt_new.count())"
   ]
  },
  {
   "cell_type": "code",
   "execution_count": null,
   "metadata": {},
   "outputs": [],
   "source": [
    "matchinggg = receipt_new.filter(receipt_new.Description.startswith('UPI/'))\n",
    "#print(matchinggg.count())\n",
    "upi = matchinggg.withColumn(\"UTR\", split(sf.col(\"Description\"), \"/\").getItem(1))\n",
    "upi_final_df = upi.select('Description','UTR')"
   ]
  },
  {
   "cell_type": "code",
   "execution_count": null,
   "metadata": {},
   "outputs": [
    {
     "name": "stdout",
     "output_type": "stream",
     "text": [
      "5046\n"
     ]
    }
   ],
   "source": [
    "print(upi_final_df.count())"
   ]
  },
  {
   "cell_type": "code",
   "execution_count": null,
   "metadata": {},
   "outputs": [],
   "source": []
  },
  {
   "cell_type": "markdown",
   "metadata": {},
   "source": [
    "# ----------------------------------------------------------------------------------------------------------------------------"
   ]
  },
  {
   "cell_type": "code",
   "execution_count": null,
   "metadata": {},
   "outputs": [],
   "source": [
    "Matching = spark.read.csv(\"/media/easebuzz/DATA/Code/raw_files/Matching_result.csv\",header = True)"
   ]
  },
  {
   "cell_type": "code",
   "execution_count": null,
   "metadata": {},
   "outputs": [
    {
     "name": "stdout",
     "output_type": "stream",
     "text": [
      "root\n",
      " |-- transactiondate: string (nullable = true)\n",
      " |-- transactiondescription: string (nullable = true)\n",
      " |-- remark: string (nullable = true)\n",
      " |-- debitamount: string (nullable = true)\n",
      " |-- creditamount: string (nullable = true)\n",
      " |-- utr: string (nullable = true)\n",
      " |-- refno: string (nullable = true)\n",
      "\n"
     ]
    }
   ],
   "source": [
    "Matching.printSchema()"
   ]
  },
  {
   "cell_type": "code",
   "execution_count": null,
   "metadata": {},
   "outputs": [],
   "source": [
    "Matching= Matching.select('transactiondescription')"
   ]
  },
  {
   "cell_type": "code",
   "execution_count": null,
   "metadata": {},
   "outputs": [
    {
     "name": "stdout",
     "output_type": "stream",
     "text": [
      "2176\n"
     ]
    }
   ],
   "source": [
    "print(Matching.count())"
   ]
  },
  {
   "cell_type": "code",
   "execution_count": null,
   "metadata": {},
   "outputs": [],
   "source": [
    "Unmatchinggg= receipt_new.subtract(Matching)"
   ]
  },
  {
   "cell_type": "code",
   "execution_count": null,
   "metadata": {},
   "outputs": [
    {
     "name": "stdout",
     "output_type": "stream",
     "text": [
      "root\n",
      " |-- Description: string (nullable = true)\n",
      "\n"
     ]
    }
   ],
   "source": [
    "receipt_new.printSchema()"
   ]
  },
  {
   "cell_type": "code",
   "execution_count": null,
   "metadata": {},
   "outputs": [
    {
     "name": "stdout",
     "output_type": "stream",
     "text": [
      "5177\n"
     ]
    }
   ],
   "source": [
    "print(Unmatchinggg.count())"
   ]
  },
  {
   "cell_type": "code",
   "execution_count": null,
   "metadata": {},
   "outputs": [],
   "source": [
    "Unmatchinggg = Unmatchinggg.filter(Unmatchinggg.Description.startswith('UPI/'))\n",
    "upi = Unmatchinggg.withColumn(\"UTR\", split(sf.col(\"Description\"), \"/\").getItem(1))\n",
    "upi_final_df = upi.select('Description','UTR')"
   ]
  },
  {
   "cell_type": "code",
   "execution_count": null,
   "metadata": {},
   "outputs": [
    {
     "data": {
      "text/plain": [
       "'3.2.1'"
      ]
     },
     "execution_count": 144,
     "metadata": {},
     "output_type": "execute_result"
    }
   ],
   "source": [
    "spark.version"
   ]
  },
  {
   "cell_type": "markdown",
   "metadata": {},
   "source": [
    "# ------------------------------------------------------------------------------------------------------------"
   ]
  },
  {
   "cell_type": "code",
   "execution_count": 11,
   "metadata": {},
   "outputs": [],
   "source": [
    "Statements = disDF"
   ]
  },
  {
   "cell_type": "code",
   "execution_count": 12,
   "metadata": {},
   "outputs": [
    {
     "name": "stderr",
     "output_type": "stream",
     "text": [
      "[Stage 9:===============================================>           (4 + 1) / 5]\r"
     ]
    },
    {
     "name": "stdout",
     "output_type": "stream",
     "text": [
      "+----------------+----------+----------------------+------------+-----------+------------+---------------+------+\n",
      "| TransactionDate| ValueDate|TransactionDescription| Referanceno|DebitAmount|CreditAmount| ClosingBalance|Remark|\n",
      "+----------------+----------+----------------------+------------+-----------+------------+---------------+------+\n",
      "|01-01-2022 00:06|01-01-2022|  IMPS/NA/XXXX2453/...|200100769002|      59.78|        null|60,95,00,340.01|  null|\n",
      "|01-01-2022 00:09|01-01-2022|  IMPS/NA/XXXX5042/...|200100772905|     768.00|        null|60,92,50,932.64|  null|\n",
      "|01-01-2022 00:09|01-01-2022|  IMPS/NA/XXXX9092/...|200100772920|     576.00|        null|60,92,48,851.76|  null|\n",
      "|01-01-2022 00:13|01-01-2022|  IMPS/NA/XXXX3604/...|200100777425|     153.86|        null|60,89,78,190.48|  null|\n",
      "|01-01-2022 00:19|01-01-2022|  IMPS/NA/XXXX9408/...|200100782546|    1001.56|        null|60,85,60,747.31|  null|\n",
      "|01-01-2022 00:20|01-01-2022|  IMPS/NA/XXXX0003/...|200100783552|    1099.56|        null|60,84,78,280.57|  null|\n",
      "|01-01-2022 00:20|01-01-2022|  IMPS/NA/XXXX8451/...|200100783644|    2000.00|        null|60,84,70,651.35|  null|\n",
      "|01-01-2022 00:23|01-01-2022|  IMPS/NA/XXXX2103/...|200100787406|    1699.32|        null|60,84,77,936.42|  null|\n",
      "|01-01-2022 00:28|01-01-2022|  UPI/200176124497/...|200176124497|    1700.00|        null|60,80,14,456.44|  null|\n",
      "|01-01-2022 00:31|01-01-2022|  IMPS/NA/XXXX3008/...|200100794467|    1087.80|        null|60,78,63,648.12|  null|\n",
      "+----------------+----------+----------------------+------------+-----------+------------+---------------+------+\n",
      "only showing top 10 rows\n",
      "\n"
     ]
    },
    {
     "name": "stderr",
     "output_type": "stream",
     "text": [
      "                                                                                \r"
     ]
    }
   ],
   "source": [
    "Statements.show(10)"
   ]
  },
  {
   "cell_type": "code",
   "execution_count": 13,
   "metadata": {},
   "outputs": [
    {
     "name": "stderr",
     "output_type": "stream",
     "text": [
      "                                                                                \r"
     ]
    },
    {
     "data": {
      "text/plain": [
       "2434468"
      ]
     },
     "execution_count": 13,
     "metadata": {},
     "output_type": "execute_result"
    }
   ],
   "source": [
    "Statements.count()"
   ]
  },
  {
   "cell_type": "code",
   "execution_count": 121,
   "metadata": {},
   "outputs": [
    {
     "name": "stdout",
     "output_type": "stream",
     "text": [
      "['TransactionDate', 'ValueDate', 'TransactionDescription', 'Referanceno', 'DebitAmount', 'CreditAmount', 'ClosingBalance', 'Remark']\n"
     ]
    }
   ],
   "source": [
    "tempList = [] \n",
    "for col in Statements.columns:\n",
    "    new_name = col.strip()\n",
    "    new_name = \"\".join(new_name.split())\n",
    "    new_name = new_name.replace('.','') # EDIT\n",
    "    tempList.append(new_name) #Edit02\n",
    "print(tempList)\n",
    "Statements = Statements.toDF(*tempList)"
   ]
  },
  {
   "cell_type": "code",
   "execution_count": 17,
   "metadata": {},
   "outputs": [],
   "source": [
    "wire_ledger = spark.read.csv(\"/media/easebuzz/DATA/Code/raw_files/ledger_utr_data_final_txn_date.csv\",header = True)"
   ]
  },
  {
   "cell_type": "code",
   "execution_count": 18,
   "metadata": {},
   "outputs": [
    {
     "name": "stdout",
     "output_type": "stream",
     "text": [
      "root\n",
      " |-- unique_transaction_reference: string (nullable = true)\n",
      " |-- transaction_amount: string (nullable = true)\n",
      " |-- transaction_date: string (nullable = true)\n",
      "\n"
     ]
    }
   ],
   "source": [
    "wire_ledger.printSchema()"
   ]
  },
  {
   "cell_type": "code",
   "execution_count": 19,
   "metadata": {},
   "outputs": [
    {
     "name": "stderr",
     "output_type": "stream",
     "text": [
      "                                                                                \r"
     ]
    },
    {
     "data": {
      "text/plain": [
       "2326153"
      ]
     },
     "execution_count": 19,
     "metadata": {},
     "output_type": "execute_result"
    }
   ],
   "source": [
    "wire_ledger.count()"
   ]
  },
  {
   "cell_type": "code",
   "execution_count": 20,
   "metadata": {},
   "outputs": [],
   "source": [
    "temp = Statements.filter(Statements.TransactionDescription.startswith('UPI/'))\n",
    "\n",
    "upi = temp.withColumn(\"UTR\", split(sf.col(\"TransactionDescription\"), \"/\").getItem(1))\n",
    "upi_final_df = upi.select('TransactionDate','TransactionDescription','Remark','DebitAmount','CreditAmount','UTR')\n",
    "\n",
    "temp1 = Statements.filter(Statements.TransactionDescription.startswith('IMPS/'))\n",
    "Imps = temp1.withColumn(\"UTR\", split(sf.col(\"TransactionDescription\"), \"/\").getItem(3))\n",
    "Imps_final = Imps.withColumn(\"UTR\", split(sf.col(\"UTR\"), \":\").getItem(1))\n",
    "Imps_final_df = Imps_final.select('TransactionDate','TransactionDescription','Remark','DebitAmount','CreditAmount','UTR')\n",
    "\n",
    "temp2 = Statements.filter(Statements.TransactionDescription.startswith('211'))\n",
    "pattern_211 = temp2.withColumn(\"UTR\", split(sf.col(\"TransactionDescription\"), \"/\").getItem(1))\n",
    "pattern_211_final_df = pattern_211.select('TransactionDate','TransactionDescription','Remark','DebitAmount','CreditAmount','UTR')\n",
    "\n",
    "temp3 = Statements.filter(Statements.TransactionDescription.startswith('REV OF IMPS'))\n",
    "rev_of_imps = temp3.withColumn(\"UTR\", split(sf.col(\"TransactionDescription\"), \":\").getItem(2))\n",
    "rev_of_imps_final_df = rev_of_imps.select('TransactionDate','TransactionDescription','Remark','DebitAmount','CreditAmount','UTR')\n",
    "\n",
    "temp4 = Statements.filter(Statements.TransactionDescription.startswith('NEFT O/W'))\n",
    "neft_o_w = temp4.withColumn(\"UTR\", split(sf.col(\"TransactionDescription\"), \" \").getItem(2))\n",
    "neft_o_w_final_df = neft_o_w.select('TransactionDate','TransactionDescription','Remark','DebitAmount','CreditAmount','UTR')\n",
    "\n",
    "temp5 = Statements.filter(Statements.TransactionDescription.startswith('REV:UPI'))\n",
    "rev_upi = temp5.withColumn(\"UTR\", split(sf.col(\"TransactionDescription\"), \"/\").getItem(1))\n",
    "rev_upi_final_df = rev_upi.select('TransactionDate','TransactionDescription','Remark','DebitAmount','CreditAmount','UTR')\n",
    "\n",
    "temp6 = Statements.filter(Statements.TransactionDescription.startswith('Funds Trf'))\n",
    "funds_trf = temp6.withColumn(\"UTR\", split(sf.col(\"TransactionDescription\"), \"/\").getItem(1))\n",
    "funds_trf_final = funds_trf.withColumn(\"UTR\", split(sf.col(\"UTR\"), \":\").getItem(1))\n",
    "funds_trf_final_df = funds_trf_final.select('TransactionDate','TransactionDescription','Remark','DebitAmount','CreditAmount','UTR')\n",
    "\n",
    "temp7 = Statements.filter(Statements.TransactionDescription.startswith('IMPS/NA'))\n",
    "store = temp7.filter(sf.col(\"TransactionDescription\").contains(\"REV\"))\n",
    "store_imps_rev = store.select('TransactionDate','TransactionDescription','Remark','DebitAmount','CreditAmount')\n",
    "Imps_reverse = store_imps_rev.withColumn(\"UTR\", split(sf.col(\"TransactionDescription\"), \"/\").getItem(4))\n",
    "Imps_reverse_final = Imps_reverse.withColumn(\"UTR\", split(sf.col(\"UTR\"), \":\").getItem(1))\n",
    "Imps_reverse_final_df = Imps_reverse_final.select('TransactionDate','TransactionDescription','Remark','DebitAmount','CreditAmount','UTR')\n",
    "\n",
    "temp8 = Statements.filter(Statements.TransactionDescription.startswith('NEFT-RETURN'))\n",
    "Neft_return = temp8.withColumn(\"UTR\", split(sf.col(\"TransactionDescription\"), \"-\").getItem(2))\n",
    "Neft_return_final_df = Neft_return.select('TransactionDate','TransactionDescription','Remark','DebitAmount','CreditAmount','UTR')\n",
    "\n",
    "temp9 = Statements.filter(Statements.TransactionDescription.startswith('tr'))\n",
    "tr = temp9.withColumn(\"UTR\", split(sf.col(\"TransactionDescription\"), \"/\").getItem(0))\n",
    "tr_final_df = tr.select('TransactionDate','TransactionDescription','Remark','DebitAmount','CreditAmount','UTR')\n",
    "#tr_final_df.show()\n",
    "\n",
    "temp10 = Statements.filter(Statements.TransactionDescription.startswith('2022'))\n",
    "twentytwo = temp10.withColumn(\"UTR\", split(sf.col(\"TransactionDescription\"), \"/\").getItem(0))\n",
    "twentytwo_final_df = twentytwo.select('TransactionDate','TransactionDescription','Remark','DebitAmount','CreditAmount','UTR')\n",
    "\n",
    "temp11= Statements.filter(Statements.TransactionDescription.startswith('PRE'))\n",
    "pre_test = temp11.withColumn(\"UTR\", split(sf.col(\"TransactionDescription\"), \" \").getItem(2))\n",
    "pre_test_final_df = pre_test.select('TransactionDate','TransactionDescription','Remark','DebitAmount','CreditAmount','UTR')\n",
    "\n",
    "temp12= Statements.filter(Statements.TransactionDescription.startswith('CBK/'))\n",
    "cbk = temp12.withColumn(\"UTR\", split(sf.col(\"TransactionDescription\"), \"/\").getItem(2))\n",
    "cbk_final_df = cbk.select('TransactionDate','TransactionDescription','Remark','DebitAmount','CreditAmount','UTR')\n",
    "\n",
    "disDF = upi_final_df.union(Imps_final_df).distinct()\n",
    "disDF = disDF.union(pattern_211_final_df).distinct()\n",
    "disDF = disDF.union(rev_of_imps_final_df).distinct()\n",
    "disDF = disDF.union(neft_o_w_final_df).distinct()\n",
    "disDF = disDF.union(rev_upi_final_df).distinct()\n",
    "disDF = disDF.union(funds_trf_final_df).distinct()\n",
    "disDF = disDF.union(Imps_reverse_final_df).distinct()\n",
    "disDF = disDF.union(Neft_return_final_df).distinct()\n",
    "disDF = disDF.union(tr_final_df).distinct()\n",
    "disDF = disDF.union(twentytwo_final_df).distinct()\n",
    "disDF = disDF.union(pre_test_final_df).distinct()\n",
    "final_df = disDF.union(cbk_final_df).distinct()\n"
   ]
  },
  {
   "cell_type": "code",
   "execution_count": 21,
   "metadata": {},
   "outputs": [
    {
     "name": "stderr",
     "output_type": "stream",
     "text": [
      "                                                                                \r"
     ]
    },
    {
     "data": {
      "text/plain": [
       "2495637"
      ]
     },
     "execution_count": 21,
     "metadata": {},
     "output_type": "execute_result"
    }
   ],
   "source": [
    "final_df.count()"
   ]
  },
  {
   "cell_type": "code",
   "execution_count": 22,
   "metadata": {},
   "outputs": [],
   "source": [
    "Matched_records=final_df.join(wire_ledger,final_df.UTR == wire_ledger.unique_transaction_reference,\"inner\")"
   ]
  },
  {
   "cell_type": "code",
   "execution_count": 25,
   "metadata": {},
   "outputs": [
    {
     "name": "stderr",
     "output_type": "stream",
     "text": [
      "                                                                                \r"
     ]
    },
    {
     "data": {
      "text/plain": [
       "2245206"
      ]
     },
     "execution_count": 25,
     "metadata": {},
     "output_type": "execute_result"
    }
   ],
   "source": [
    "Matched_records.count()"
   ]
  },
  {
   "cell_type": "code",
   "execution_count": 26,
   "metadata": {},
   "outputs": [
    {
     "name": "stdout",
     "output_type": "stream",
     "text": [
      "root\n",
      " |-- TransactionDate: string (nullable = true)\n",
      " |-- TransactionDescription: string (nullable = true)\n",
      " |-- Remark: string (nullable = true)\n",
      " |-- DebitAmount: string (nullable = true)\n",
      " |-- CreditAmount: string (nullable = true)\n",
      " |-- UTR: string (nullable = true)\n",
      " |-- unique_transaction_reference: string (nullable = true)\n",
      " |-- transaction_amount: string (nullable = true)\n",
      " |-- transaction_date: string (nullable = true)\n",
      "\n"
     ]
    }
   ],
   "source": [
    "Matched_records.printSchema()"
   ]
  },
  {
   "cell_type": "code",
   "execution_count": 32,
   "metadata": {},
   "outputs": [
    {
     "name": "stderr",
     "output_type": "stream",
     "text": [
      "                                                                                \r"
     ]
    }
   ],
   "source": [
    "Matched_records.write.csv('/media/easebuzz/DATA/Code/matching result/Matched/wirematched.csv')"
   ]
  },
  {
   "cell_type": "code",
   "execution_count": 28,
   "metadata": {},
   "outputs": [],
   "source": [
    "temp_mr=Matched_records.select('TransactionDescription')"
   ]
  },
  {
   "cell_type": "code",
   "execution_count": 29,
   "metadata": {},
   "outputs": [],
   "source": [
    "temp_umr=Statements.select('TransactionDescription')"
   ]
  },
  {
   "cell_type": "code",
   "execution_count": 30,
   "metadata": {},
   "outputs": [],
   "source": [
    "Unmatched_result=temp_umr.subtract(temp_mr)"
   ]
  },
  {
   "cell_type": "code",
   "execution_count": 36,
   "metadata": {},
   "outputs": [
    {
     "name": "stderr",
     "output_type": "stream",
     "text": [
      "                                                                                \r"
     ]
    }
   ],
   "source": [
    "Unmatched_result.write.csv('/media/easebuzz/DATA/Code/matching result/Un-Matched/wire_unmatched.csv')"
   ]
  }
 ],
 "metadata": {
  "interpreter": {
   "hash": "e5030792b3492f6b12d94f1f48beca3d8e59ec05fd59d0aaaa48e684281ed297"
  },
  "kernelspec": {
   "display_name": "Python 3.7.12 64-bit",
   "language": "python",
   "name": "python3"
  },
  "language_info": {
   "codemirror_mode": {
    "name": "ipython",
    "version": 3
   },
   "file_extension": ".py",
   "mimetype": "text/x-python",
   "name": "python",
   "nbconvert_exporter": "python",
   "pygments_lexer": "ipython3",
   "version": "3.7.13"
  },
  "orig_nbformat": 4
 },
 "nbformat": 4,
 "nbformat_minor": 2
}
