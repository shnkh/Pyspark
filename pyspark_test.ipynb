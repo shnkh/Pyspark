{
 "cells": [
  {
   "cell_type": "code",
   "execution_count": 1,
   "metadata": {},
   "outputs": [],
   "source": [
    "import pyspark"
   ]
  },
  {
   "cell_type": "code",
   "execution_count": 2,
   "metadata": {},
   "outputs": [],
   "source": [
    "import pandas as pd"
   ]
  },
  {
   "cell_type": "code",
   "execution_count": 3,
   "metadata": {},
   "outputs": [],
   "source": [
    "import pyspark\n",
    "from pyspark.sql.functions import *\n",
    "from pyspark.sql import SparkSession\n",
    "from pyspark.sql import Row\n",
    "import pyspark.sql.functions as sf\n",
    "appName= \"hive_pyspark\"\n",
    "master= \"local\""
   ]
  },
  {
   "cell_type": "markdown",
   "metadata": {},
   "source": [
    "## create sparksession"
   ]
  },
  {
   "cell_type": "code",
   "execution_count": 4,
   "metadata": {},
   "outputs": [],
   "source": [
    "from pyspark.sql import SparkSession"
   ]
  },
  {
   "cell_type": "code",
   "execution_count": 5,
   "metadata": {},
   "outputs": [],
   "source": [
    "#spark=SparkSession.builder.appName('Dataframe').getOrCreate()"
   ]
  },
  {
   "cell_type": "code",
   "execution_count": 6,
   "metadata": {},
   "outputs": [],
   "source": [
    "#spark"
   ]
  },
  {
   "cell_type": "code",
   "execution_count": 7,
   "metadata": {},
   "outputs": [
    {
     "name": "stderr",
     "output_type": "stream",
     "text": [
      "22/03/23 12:00:39 WARN Utils: Your hostname, easebuzz-Inspiron-3501 resolves to a loopback address: 127.0.1.1; using 10.10.2.6 instead (on interface wlp0s20f3)\n",
      "22/03/23 12:00:39 WARN Utils: Set SPARK_LOCAL_IP if you need to bind to another address\n",
      "WARNING: An illegal reflective access operation has occurred\n",
      "WARNING: Illegal reflective access by org.apache.spark.unsafe.Platform (file:/home/easebuzz/.local/lib/python3.7/site-packages/pyspark/jars/spark-unsafe_2.12-3.2.1.jar) to constructor java.nio.DirectByteBuffer(long,int)\n",
      "WARNING: Please consider reporting this to the maintainers of org.apache.spark.unsafe.Platform\n",
      "WARNING: Use --illegal-access=warn to enable warnings of further illegal reflective access operations\n",
      "WARNING: All illegal access operations will be denied in a future release\n",
      "Using Spark's default log4j profile: org/apache/spark/log4j-defaults.properties\n",
      "Setting default log level to \"WARN\".\n",
      "To adjust logging level use sc.setLogLevel(newLevel). For SparkR, use setLogLevel(newLevel).\n",
      "22/03/23 12:00:39 WARN NativeCodeLoader: Unable to load native-hadoop library for your platform... using builtin-java classes where applicable\n"
     ]
    }
   ],
   "source": [
    "spark = SparkSession.builder.master(master).appName(appName).enableHiveSupport().getOrCreate()"
   ]
  },
  {
   "cell_type": "code",
   "execution_count": 8,
   "metadata": {},
   "outputs": [
    {
     "name": "stderr",
     "output_type": "stream",
     "text": [
      "22/03/23 12:00:43 WARN HiveConf: HiveConf of name hive.stats.jdbc.timeout does not exist\n",
      "22/03/23 12:00:43 WARN HiveConf: HiveConf of name hive.stats.retries.wait does not exist\n",
      "22/03/23 12:00:46 WARN ObjectStore: Version information not found in metastore. hive.metastore.schema.verification is not enabled so recording the schema version 2.3.0\n",
      "22/03/23 12:00:46 WARN ObjectStore: setMetaStoreSchemaVersion called but recording version is disabled: version = 2.3.0, comment = Set by MetaStore easebuzz@127.0.1.1\n"
     ]
    },
    {
     "name": "stdout",
     "output_type": "stream",
     "text": [
      "+---------+\n",
      "|namespace|\n",
      "+---------+\n",
      "|  default|\n",
      "+---------+\n",
      "\n"
     ]
    }
   ],
   "source": [
    "df=spark.sql(\"show databases\")\n",
    "df.show()"
   ]
  },
  {
   "cell_type": "code",
   "execution_count": 9,
   "metadata": {},
   "outputs": [
    {
     "name": "stdout",
     "output_type": "stream",
     "text": [
      "+----------------+----------+-----------------------+------------+---------+----------+--------------+---------+--------------------+--------------------+\n",
      "|Transaction Date|Value Date|Transaction Discription|Referance No|Debit Amt|Credit Amt|   Running Bal|Bank-name|           file-name|       date_ingested|\n",
      "+----------------+----------+-----------------------+------------+---------+----------+--------------+---------+--------------------+--------------------+\n",
      "|01-12-2021 06:10|01-12-2021|   NEFT/000214522423...|        null|     3.72|      null|2,47,97,607.12| RBL-Bank|s3://reconcilatio...|2022-03-11 19:17:...|\n",
      "|01-12-2021 06:10|01-12-2021|   NEFT/000214522442...|        null|     7.46|      null|2,47,97,599.66| RBL-Bank|s3://reconcilatio...|2022-03-11 19:17:...|\n",
      "|01-12-2021 06:10|01-12-2021|   NEFT/000214522424...|        null|     11.2|      null|2,47,97,588.46| RBL-Bank|s3://reconcilatio...|2022-03-11 19:17:...|\n",
      "|01-12-2021 06:10|01-12-2021|   NEFT/000214522466...|        null| 3,000.00|      null|2,47,94,588.46| RBL-Bank|s3://reconcilatio...|2022-03-11 19:17:...|\n",
      "|01-12-2021 06:10|01-12-2021|   NEFT/000214522469...|        null|     11.2|      null|2,47,94,577.26| RBL-Bank|s3://reconcilatio...|2022-03-11 19:17:...|\n",
      "+----------------+----------+-----------------------+------------+---------+----------+--------------+---------+--------------------+--------------------+\n",
      "only showing top 5 rows\n",
      "\n"
     ]
    }
   ],
   "source": [
    "datafile=spark.read.csv(\"/media/easebuzz/DATA/Code/raw_files/Rbl_processed.csv\",header=True)\n",
    "datafile.show(5)\n",
    "#datafile.write.saveAsTable(\"test_table\")"
   ]
  },
  {
   "cell_type": "code",
   "execution_count": 10,
   "metadata": {},
   "outputs": [],
   "source": [
    "#converting dataframe perticular column to a list\n",
    "list1=([data[0] for data in datafile.select('Transaction Discription').collect()])"
   ]
  },
  {
   "cell_type": "code",
   "execution_count": 11,
   "metadata": {},
   "outputs": [],
   "source": [
    "\n",
    "df2 = datafile.where(\n",
    "    datafile['Transaction Discription'].rlike(\"|\".join([\"(\" + pat + \")\" for pat in list1]))\n",
    ")"
   ]
  },
  {
   "cell_type": "code",
   "execution_count": 12,
   "metadata": {},
   "outputs": [
    {
     "name": "stdout",
     "output_type": "stream",
     "text": [
      "+----------------+----------+-----------------------+------------+-----------+----------+--------------+---------+--------------------+--------------------+\n",
      "|Transaction Date|Value Date|Transaction Discription|Referance No|  Debit Amt|Credit Amt|   Running Bal|Bank-name|           file-name|       date_ingested|\n",
      "+----------------+----------+-----------------------+------------+-----------+----------+--------------+---------+--------------------+--------------------+\n",
      "|01-12-2021 06:10|01-12-2021|   NEFT/000214522423...|        null|       3.72|      null|2,47,97,607.12| RBL-Bank|s3://reconcilatio...|2022-03-11 19:17:...|\n",
      "|01-12-2021 06:10|01-12-2021|   NEFT/000214522442...|        null|       7.46|      null|2,47,97,599.66| RBL-Bank|s3://reconcilatio...|2022-03-11 19:17:...|\n",
      "|01-12-2021 06:10|01-12-2021|   NEFT/000214522424...|        null|       11.2|      null|2,47,97,588.46| RBL-Bank|s3://reconcilatio...|2022-03-11 19:17:...|\n",
      "|01-12-2021 06:10|01-12-2021|   NEFT/000214522466...|        null|   3,000.00|      null|2,47,94,588.46| RBL-Bank|s3://reconcilatio...|2022-03-11 19:17:...|\n",
      "|01-12-2021 06:10|01-12-2021|   NEFT/000214522469...|        null|       11.2|      null|2,47,94,577.26| RBL-Bank|s3://reconcilatio...|2022-03-11 19:17:...|\n",
      "|01-12-2021 06:10|01-12-2021|   NEFT/000214522445...|        null|      22.36|      null|2,47,94,554.90| RBL-Bank|s3://reconcilatio...|2022-03-11 19:17:...|\n",
      "|01-12-2021 06:10|01-12-2021|   NEFT/000214522471...|        null|      11.18|      null|2,47,94,543.72| RBL-Bank|s3://reconcilatio...|2022-03-11 19:17:...|\n",
      "|01-12-2021 06:10|01-12-2021|   NEFT/000214522474...|        null|      44.76|      null|2,47,94,498.96| RBL-Bank|s3://reconcilatio...|2022-03-11 19:17:...|\n",
      "|01-12-2021 06:10|01-12-2021|   NEFT/000214522477...|        null|       7.46|      null|2,47,94,491.50| RBL-Bank|s3://reconcilatio...|2022-03-11 19:17:...|\n",
      "|01-12-2021 06:10|01-12-2021|   NEFT/000214522447...|        null|      22.36|      null|2,47,94,469.14| RBL-Bank|s3://reconcilatio...|2022-03-11 19:17:...|\n",
      "|01-12-2021 06:10|01-12-2021|   RTGS/RATNH2133511...|        null|8,00,000.00|      null|2,39,94,469.14| RBL-Bank|s3://reconcilatio...|2022-03-11 19:17:...|\n",
      "|01-12-2021 06:10|01-12-2021|   NEFT/000214522473...|        null|       3.72|      null|2,39,94,465.42| RBL-Bank|s3://reconcilatio...|2022-03-11 19:17:...|\n",
      "|01-12-2021 06:10|01-12-2021|   NEFT/000214522490...|        null|      33.56|      null|2,39,94,431.86| RBL-Bank|s3://reconcilatio...|2022-03-11 19:17:...|\n",
      "|01-12-2021 07:03|01-12-2021|         133507009262-N|        null|         10|      null|2,39,94,421.86| RBL-Bank|s3://reconcilatio...|2022-03-11 19:17:...|\n",
      "|01-12-2021 07:08|01-12-2021|         133507010345-N|        null|         20|      null|2,39,94,401.86| RBL-Bank|s3://reconcilatio...|2022-03-11 19:17:...|\n",
      "|01-12-2021 07:35|01-12-2021|   133507027420-PAYMENT|        null|   7,000.00|      null|2,39,87,401.86| RBL-Bank|s3://reconcilatio...|2022-03-11 19:17:...|\n",
      "|01-12-2021 07:53|01-12-2021|   133507045381-PAYMENT|        null|        500|      null|2,39,86,901.86| RBL-Bank|s3://reconcilatio...|2022-03-11 19:17:...|\n",
      "|01-12-2021 07:59|01-12-2021|   133507049746-PAYMENT|        null|   1,000.00|      null|2,39,85,901.86| RBL-Bank|s3://reconcilatio...|2022-03-11 19:17:...|\n",
      "|01-12-2021 08:43|01-12-2021|   133508069096-PAYMENT|        null|   8,000.00|      null|2,39,77,901.86| RBL-Bank|s3://reconcilatio...|2022-03-11 19:17:...|\n",
      "|01-12-2021 08:46|01-12-2021|         133508070829-N|        null|        100|      null|2,39,77,801.86| RBL-Bank|s3://reconcilatio...|2022-03-11 19:17:...|\n",
      "+----------------+----------+-----------------------+------------+-----------+----------+--------------+---------+--------------------+--------------------+\n",
      "only showing top 20 rows\n",
      "\n"
     ]
    }
   ],
   "source": [
    "df2.show()"
   ]
  },
  {
   "cell_type": "code",
   "execution_count": 13,
   "metadata": {},
   "outputs": [
    {
     "data": {
      "text/plain": [
       "[('Transaction Date', 'string'),\n",
       " ('Value Date', 'string'),\n",
       " ('Transaction Discription', 'string'),\n",
       " ('Referance No', 'string'),\n",
       " ('Debit Amt', 'string'),\n",
       " ('Credit Amt', 'string'),\n",
       " ('Running Bal', 'string'),\n",
       " ('Bank-name', 'string'),\n",
       " ('file-name', 'string'),\n",
       " ('date_ingested', 'string')]"
      ]
     },
     "execution_count": 13,
     "metadata": {},
     "output_type": "execute_result"
    }
   ],
   "source": [
    "df2.dtypes"
   ]
  },
  {
   "cell_type": "markdown",
   "metadata": {},
   "source": [
    "# --------------------------------------------------------------------------------------------------------------------------------"
   ]
  },
  {
   "cell_type": "code",
   "execution_count": 69,
   "metadata": {},
   "outputs": [
    {
     "name": "stdout",
     "output_type": "stream",
     "text": [
      "+--------------------+--------+\n",
      "|           Regiments|    Arms|\n",
      "+--------------------+--------+\n",
      "|      Assam regiment|infantry|\n",
      "|     Garehwal rifles|infantry|\n",
      "|   Rajputana rifles |infantry|\n",
      "|     Rajput regiment|infantry|\n",
      "|Maratha light inf...|infantry|\n",
      "| Sikh light infantry|infantry|\n",
      "|       Sikh regiment|infantry|\n",
      "|       Para regiment|infantry|\n",
      "| para special forces|infantry|\n",
      "|     Signal regiment|    ENTC|\n",
      "|       508 regiment |Mech-inf|\n",
      "|     Madras Regiment|infantry|\n",
      "|          Granediers|infantry|\n",
      "+--------------------+--------+\n",
      "\n"
     ]
    }
   ],
   "source": [
    "dfregset= spark.read.csv(\"/media/easebuzz/DATA/Code/raw_files/Source_regiment.csv\",header=True)\n",
    "dfregset.show()"
   ]
  },
  {
   "cell_type": "code",
   "execution_count": 15,
   "metadata": {},
   "outputs": [
    {
     "name": "stdout",
     "output_type": "stream",
     "text": [
      "+----------+\n",
      "|filter_reg|\n",
      "+----------+\n",
      "|     Assam|\n",
      "|  Garehwal|\n",
      "|       508|\n",
      "+----------+\n",
      "\n"
     ]
    }
   ],
   "source": [
    "dffilterset= spark.read.csv(\"/media/easebuzz/DATA/Code/raw_files/filter_reg.csv\",header=True)\n",
    "dffilterset.show()"
   ]
  },
  {
   "cell_type": "code",
   "execution_count": 16,
   "metadata": {},
   "outputs": [
    {
     "name": "stdout",
     "output_type": "stream",
     "text": [
      "['Assam', 'Garehwal', '508']\n"
     ]
    }
   ],
   "source": [
    "fillist=([data[0] for data in dffilterset.select('filter_reg').collect()])\n",
    "print(fillist)\n"
   ]
  },
  {
   "cell_type": "code",
   "execution_count": 17,
   "metadata": {},
   "outputs": [
    {
     "name": "stdout",
     "output_type": "stream",
     "text": [
      "+---------------+--------+\n",
      "|      Regiments|    Arms|\n",
      "+---------------+--------+\n",
      "| Assam regiment|infantry|\n",
      "|Garehwal rifles|infantry|\n",
      "|  508 regiment |Mech-inf|\n",
      "+---------------+--------+\n",
      "\n"
     ]
    }
   ],
   "source": [
    "afterfil = dfregset.where(\n",
    "    dfregset['Regiments'].rlike(\"|\".join([\"(\" + pat + \")\" for pat in fillist]))\n",
    ")\n",
    "afterfil.show()\n"
   ]
  },
  {
   "cell_type": "code",
   "execution_count": 18,
   "metadata": {},
   "outputs": [
    {
     "name": "stdout",
     "output_type": "stream",
     "text": [
      "+--------------------+--------+\n",
      "|           Regiments|    Arms|\n",
      "+--------------------+--------+\n",
      "|     Madras Regiment|infantry|\n",
      "|     Signal regiment|    ENTC|\n",
      "|          Granediers|infantry|\n",
      "|   Rajputana rifles |infantry|\n",
      "|       Sikh regiment|infantry|\n",
      "|     Rajput regiment|infantry|\n",
      "| Sikh light infantry|infantry|\n",
      "| para special forces|infantry|\n",
      "|Maratha light inf...|infantry|\n",
      "|       Para regiment|infantry|\n",
      "+--------------------+--------+\n",
      "\n"
     ]
    }
   ],
   "source": [
    "dfregset.subtract(afterfil).show()"
   ]
  },
  {
   "cell_type": "code",
   "execution_count": 19,
   "metadata": {},
   "outputs": [],
   "source": [
    "#dftest = dfregset.merge(afterfil, how = 'outer' ,indicator=True).loc[lambda x : x['merge']=='left_only']\n",
    "#dftest = df1.merge(df2, how = 'outer' ,indicator=True).loc[lambda x : x['_merge']=='left_only']"
   ]
  },
  {
   "cell_type": "code",
   "execution_count": 20,
   "metadata": {},
   "outputs": [],
   "source": [
    "#diff_df = pd.merge(dfregset, afterfil, how='outer', indicator='Exist')\n",
    "\n",
    "#diff_df = diff_df.loc[diff_df['Exist'] != 'both']\n",
    "\n",
    "#df_diff = pd.concat([dfregset],afterfil).drop_duplicates(keep=False)"
   ]
  },
  {
   "cell_type": "code",
   "execution_count": 21,
   "metadata": {},
   "outputs": [],
   "source": [
    "#dfregset=pd.concat[afterfil]"
   ]
  },
  {
   "cell_type": "code",
   "execution_count": 22,
   "metadata": {},
   "outputs": [
    {
     "name": "stdout",
     "output_type": "stream",
     "text": [
      "<bound method NDFrame.head of                       Date                                        Description  \\\n",
      "0               14/03/2022                                              Bin-1   \n",
      "1               14/03/2022                                              Bin-2   \n",
      "2               14/03/2022                                              Bin-3   \n",
      "3               14/03/2022                     UPI Transaction dtd 12/03/2022   \n",
      "4               14/03/2022                     UPI Transaction dtd 11/03/2022   \n",
      "5               14/03/2022                                             Yes NB   \n",
      "6               14/03/2022                                              Yes-1   \n",
      "7               14/03/2022                                              Yes-2   \n",
      "8               14/03/2022                                              Yes-3   \n",
      "9               14/03/2022                                              Yes-4   \n",
      "10              14/03/2022                                              Yes-5   \n",
      "11              14/03/2022                                              Yes-6   \n",
      "12              12/03/2022                      EASEBUZZ _P2M TCC_11032022_04   \n",
      "13              12/03/2022                       EASEBUZZ  PVT LT_11032022_10   \n",
      "14              12/03/2022                      EASEBUZZ _P2M TCC_10032022_06   \n",
      "15              12/03/2022                       EASEBUZZ  PVT LT_10032022_11   \n",
      "16              14/03/2022                                         ICICI NB-1   \n",
      "17              14/03/2022                                         ICICI NB-2   \n",
      "18              14/03/2022                                         ICICI NB-3   \n",
      "19              14/03/2022  RTGS Cr-ICIC0000104-CENTRAL LIABILITY OPERATIO...   \n",
      "20              14/03/2022  RTGS Cr-ICIC0000104-CENTRAL LIABILITY OPERATIO...   \n",
      "21              14/03/2022  RTGS Cr-ICIC0000104-CENTRAL LIABILITY OPERATIO...   \n",
      "22              14/03/2022                     UPI Transaction dtd 13/03/2022   \n",
      "23  03/11/2022 06:36:32 PM  UPI/207015440229/RL747MC7GC/From:m2mferries@ye...   \n",
      "24  03/11/2022 06:56:23 PM  UPI/207015476019/R0VIGIGQ7S/From:ameetparekhco...   \n",
      "25  03/13/2022 01:48:14 PM  UPI/207218814872/R0JGPE3XTM/From:m2mferries@ye...   \n",
      "26  03/13/2022 01:49:01 PM  UPI/207218815894/R8OPVDQGC1/From:m2mferries@ye...   \n",
      "27  03/13/2022 01:49:33 PM  UPI/207218816487/R2KABCG6YQ/From:m2mferries@ye...   \n",
      "28  03/13/2022 01:49:35 PM  UPI/207218816824/R6HMR2SU72/From:m2mferries@ye...   \n",
      "29                     NaN                                                NaN   \n",
      "30              14/03/2022                                              TOTAL   \n",
      "\n",
      "          Amount C.D.Flag  Total Yes Amount  Wire amount  Receipt Amount  \\\n",
      "0   7.956043e+06        C               NaN          NaN             NaN   \n",
      "1   4.237830e+06        C               NaN          NaN             NaN   \n",
      "2   4.357183e+06        C               NaN          NaN             NaN   \n",
      "3   9.577457e+07        C      9.858979e+07   2815227.00             NaN   \n",
      "4   8.850156e+07        C      9.069003e+07   2188467.43             NaN   \n",
      "5   4.185201e+05        C               NaN          NaN             NaN   \n",
      "6   1.105287e+07        C               NaN          NaN             NaN   \n",
      "7   1.109600e+07        C               NaN          NaN             NaN   \n",
      "8   7.543821e+06        C               NaN          NaN             NaN   \n",
      "9   8.445967e+06        C               NaN          NaN             NaN   \n",
      "10  4.609177e+06        C               NaN          NaN             NaN   \n",
      "11  6.508852e+06        C               NaN          NaN             NaN   \n",
      "12  5.700000e+02        C               NaN          NaN             NaN   \n",
      "13  9.069000e+03        C               NaN          NaN             NaN   \n",
      "14  3.720000e+02        C               NaN          NaN             NaN   \n",
      "15  3.010000e+03        C               NaN          NaN             NaN   \n",
      "16  2.515496e+06        C               NaN          NaN             NaN   \n",
      "17  1.499004e+06        C               NaN          NaN             NaN   \n",
      "18  2.308715e+06        C               NaN          NaN             NaN   \n",
      "19  3.515322e+06        C               NaN          NaN             NaN   \n",
      "20  3.571257e+06        C               NaN          NaN             NaN   \n",
      "21  4.240020e+06        C               NaN          NaN             NaN   \n",
      "22  7.461326e+07      NaN      7.799154e+07          NaN             NaN   \n",
      "23 -3.600000e+02        D      2.070154e+11          NaN             NaN   \n",
      "24 -3.998820e+04        D      2.070155e+11          NaN             NaN   \n",
      "25 -1.800000e+02        D      2.072188e+11          NaN             NaN   \n",
      "26 -3.600000e+02        D      2.072188e+11          NaN             NaN   \n",
      "27 -4.600000e+02        D      2.072188e+11          NaN             NaN   \n",
      "28 -4.600000e+02        D      2.072188e+11          NaN             NaN   \n",
      "29           NaN      NaN               NaN          NaN             NaN   \n",
      "30  3.427367e+08      NaN               NaN          NaN             NaN   \n",
      "\n",
      "    Merged Amount   Difference  \n",
      "0              NaN         NaN  \n",
      "1              NaN         NaN  \n",
      "2              NaN         NaN  \n",
      "3              NaN         NaN  \n",
      "4              NaN         NaN  \n",
      "5              NaN         NaN  \n",
      "6              NaN         NaN  \n",
      "7              NaN         NaN  \n",
      "8              NaN         NaN  \n",
      "9              NaN         NaN  \n",
      "10             NaN         NaN  \n",
      "11             NaN         NaN  \n",
      "12             NaN         NaN  \n",
      "13             NaN         NaN  \n",
      "14             NaN         NaN  \n",
      "15             NaN         NaN  \n",
      "16             NaN         NaN  \n",
      "17             NaN         NaN  \n",
      "18             NaN         NaN  \n",
      "19             NaN         NaN  \n",
      "20             NaN         NaN  \n",
      "21             NaN         NaN  \n",
      "22             NaN         NaN  \n",
      "23             NaN         NaN  \n",
      "24             NaN         NaN  \n",
      "25             NaN         NaN  \n",
      "26             NaN         NaN  \n",
      "27             NaN         NaN  \n",
      "28             NaN         NaN  \n",
      "29             NaN         NaN  \n",
      "30             NaN         NaN  >\n"
     ]
    }
   ],
   "source": [
    "receipt = pd.read_excel(\"/media/easebuzz/DATA/Code/raw_files/receipt-14-03-2022-yespart A FINAL.xls\")\n",
    "print(receipt.head)"
   ]
  },
  {
   "cell_type": "markdown",
   "metadata": {},
   "source": [
    "# ------------------------------------------------------------------------------------------------------------------------"
   ]
  },
  {
   "cell_type": "code",
   "execution_count": 23,
   "metadata": {},
   "outputs": [
    {
     "name": "stdout",
     "output_type": "stream",
     "text": [
      "+-------------------+--------------------+--------------------+\n",
      "|   transaction_date|          value_date|            NOTATION|\n",
      "+-------------------+--------------------+--------------------+\n",
      "|2021-11-01 00:25:00|2021-10-30 18:30:...|R/UPI/13051309360...|\n",
      "|2021-11-01 05:57:00|2021-10-31 18:30:...|R/UPI/13051309735...|\n",
      "|2021-11-01 09:52:00|2021-10-31 18:30:...|RTGS/UTIBH2130521...|\n",
      "|2021-11-01 12:29:00|2021-10-31 18:30:...|IMPS 130512021968...|\n",
      "|2021-11-01 06:25:00|2021-10-31 18:30:...|R/UPI/13051309792...|\n",
      "|2021-11-01 13:06:00|2021-10-31 18:30:...|UPI/130555786563/...|\n",
      "|2021-11-01 15:16:00|2021-10-31 18:30:...|IMPS 130515581433...|\n",
      "|2021-11-01 17:18:00|2021-10-31 18:30:...|    TR9E6B0CDD65724F|\n",
      "|2021-11-01 18:08:00|2021-10-31 18:30:...|IMPS 130518852314...|\n",
      "|2021-11-01 20:14:00|2021-10-31 18:30:...|NEFT/INDBN0111485...|\n",
      "|2021-11-01 23:17:00|2021-10-31 18:30:...|IMPS 130523849594...|\n",
      "|2021-11-02 11:31:00|2021-11-01 18:30:...|R-130611071368-RE...|\n",
      "|2021-11-02 12:38:00|2021-11-01 18:30:...|    TR7E059CA211C041|\n",
      "|2021-11-02 13:07:00|2021-11-01 18:30:...|R-130613047373-RE...|\n",
      "|2021-11-01 15:02:00|2021-10-31 18:30:...|UPI/130515077389/...|\n",
      "|2021-11-01 16:02:00|2021-10-31 18:30:...|NEFT/SBIN32130522...|\n",
      "|2021-11-01 16:14:00|2021-10-31 18:30:...|RTGS/IBKLH2130560...|\n",
      "|2021-11-02 18:59:00|2021-11-01 18:30:...|RTGS/ICICH2130614...|\n",
      "|2021-11-02 19:55:00|2021-11-01 18:30:...|IMPS 130619650378...|\n",
      "|2021-11-02 17:55:00|2021-11-01 18:30:...|RTGS/HDFCH2130619...|\n",
      "+-------------------+--------------------+--------------------+\n",
      "only showing top 20 rows\n",
      "\n"
     ]
    }
   ],
   "source": [
    "Yesstatements =spark.read.csv('/media/easebuzz/DATA/Code/Processed_files/bankstatements_test.csv',header=True)\n",
    "Yesstatements.show()"
   ]
  },
  {
   "cell_type": "code",
   "execution_count": 24,
   "metadata": {},
   "outputs": [
    {
     "name": "stdout",
     "output_type": "stream",
     "text": [
      "+----------------+\n",
      "|             UTR|\n",
      "+----------------+\n",
      "|    130513093601|\n",
      "|    130513097355|\n",
      "|UTIBH21305219225|\n",
      "|    130512021968|\n",
      "|    130513097925|\n",
      "+----------------+\n",
      "only showing top 5 rows\n",
      "\n"
     ]
    }
   ],
   "source": [
    "Utr =spark.read.csv(\"/media/easebuzz/DATA/Code/Processed_files/UtR_test.csv\",header=True)\n",
    "Utr.show(5)"
   ]
  },
  {
   "cell_type": "code",
   "execution_count": 25,
   "metadata": {},
   "outputs": [
    {
     "name": "stdout",
     "output_type": "stream",
     "text": [
      "['130513093601', '130513097355', 'UTIBH21305219225', '130512021968', '130513097925', '130555786563', '130515581433', '130518852314', 'INDBN01114855660', '130523849594', '130611071368', '130613047373', 'SBIN321305229549', 'IBKLH21305600499', 'ICICH21306149418', '130619650378', 'HDFCH21306191224', '130622355229', '130513093616', '130513094584', '130513096509', '130509029235', '130509372224', '130710474439', 'N307211701074022', '130716067880', '130719049699', '130719050613', 'UTIBH21307245061', '130718510506', 'R-130718043751-REVERSAL-DP', 'IMPS 130719939340 FROM JUSTDIAL']\n"
     ]
    }
   ],
   "source": [
    "Utrlist=([data[0] for data in Utr.select('UTR').collect()])\n",
    "print(Utrlist)\n"
   ]
  },
  {
   "cell_type": "code",
   "execution_count": 26,
   "metadata": {},
   "outputs": [
    {
     "name": "stdout",
     "output_type": "stream",
     "text": [
      "['130513093601', '130513097355', 'UTIBH21305219225', '130512021968', '130513097925', '130555786563', '130515581433', '130518852314', 'INDBN01114855660', '130523849594', '130611071368', '130613047373', 'SBIN321305229549', 'IBKLH21305600499', 'ICICH21306149418', '130619650378', 'HDFCH21306191224', '130622355229', '130513093616', '130513094584', '130513096509', '130509029235', '130509372224', '130710474439', 'N307211701074022', '130716067880', '130719049699', '130719050613', 'UTIBH21307245061', '130718510506', 'R-130718043751-REVERSAL-DP', 'IMPS 130719939340 FROM JUSTDIAL']\n"
     ]
    }
   ],
   "source": [
    "filtered_list=[]\n",
    "for ele in Utrlist:\n",
    "    if ele != None:\n",
    "        filtered_list.append(ele)\n",
    "print(filtered_list)"
   ]
  },
  {
   "cell_type": "code",
   "execution_count": 39,
   "metadata": {},
   "outputs": [],
   "source": [
    "afterfil = Yesstatements.where(\n",
    "    Yesstatements['NOTATION'].rlike(\"|\".join([\"(\" + pat + \")\" for pat in filtered_list]))\n",
    ")"
   ]
  },
  {
   "cell_type": "code",
   "execution_count": 28,
   "metadata": {},
   "outputs": [],
   "source": [
    "unmatched=Yesstatements.subtract(afterfil)"
   ]
  },
  {
   "cell_type": "code",
   "execution_count": 29,
   "metadata": {},
   "outputs": [],
   "source": [
    "afterfil= afterfil.withColumn('Status', sf.lit('Matched'))"
   ]
  },
  {
   "cell_type": "code",
   "execution_count": 30,
   "metadata": {},
   "outputs": [],
   "source": [
    "unmatched= unmatched.withColumn('Status', sf.lit('Unmatched'))"
   ]
  },
  {
   "cell_type": "code",
   "execution_count": 31,
   "metadata": {},
   "outputs": [
    {
     "name": "stdout",
     "output_type": "stream",
     "text": [
      "+-------------------+--------------------+--------------------+---------+\n",
      "|   transaction_date|          value_date|            NOTATION|   Status|\n",
      "+-------------------+--------------------+--------------------+---------+\n",
      "|2021-11-09 17:32:00|2021-11-08 18:30:...|RTGS/IDFBH2131355...|Unmatched|\n",
      "|2021-11-19 15:53:00|2021-11-18 18:30:...|UPI/132377504949/...|Unmatched|\n",
      "|2021-11-05 20:27:00|2021-11-04 18:30:...|IMPS 130920591776...|Unmatched|\n",
      "|2021-11-13 19:11:00|2021-11-12 18:30:...|IMPS 131719977880...|Unmatched|\n",
      "|2021-11-01 19:25:00|2021-10-31 18:30:...|IMPS 130519185896...|Unmatched|\n",
      "|2021-11-06 18:36:00|2021-11-05 18:30:...|RTGS/BCBMH2131073...|Unmatched|\n",
      "|2021-11-03 19:40:00|2021-11-02 18:30:...|R-130719068598-RE...|Unmatched|\n",
      "|2021-11-11 20:34:00|2021-11-10 18:30:...|RTGS/IDFBH2131556...|Unmatched|\n",
      "|2021-11-02 13:23:00|2021-11-01 18:30:...|IMPS 130613116845...|Unmatched|\n",
      "|2021-11-15 12:20:00|2021-11-14 18:30:...|IMPS 131912819043...|Unmatched|\n",
      "|2021-11-12 10:47:00|2021-11-11 18:30:...|R-131610034065-RE...|Unmatched|\n",
      "|2021-11-03 13:10:00|2021-11-02 18:30:...|IMPS 130713379825...|Unmatched|\n",
      "|2021-11-25 13:31:00|2021-11-24 18:30:...|NEFT/N32921172550...|Unmatched|\n",
      "|2021-11-08 15:23:00|2021-11-07 18:30:...|IMPS 131215502717...|Unmatched|\n",
      "|2021-11-11 14:02:00|2021-11-10 18:30:...|NEFT/IBKL21111170...|Unmatched|\n",
      "|2021-11-01 13:07:00|2021-10-31 18:30:...|NEFT/N30521169608...|Unmatched|\n",
      "|2021-11-10 17:58:00|2021-11-09 18:30:...|IMPS 131417166381...|Unmatched|\n",
      "|2021-11-11 15:04:00|2021-11-10 18:30:...|    TR440FC42645594D|Unmatched|\n",
      "|2021-11-24 19:07:00|2021-11-23 18:30:...|NEFT/000213218681...|Unmatched|\n",
      "|2021-11-01 14:11:00|2021-10-31 18:30:...|IMPS 130514515729...|Unmatched|\n",
      "+-------------------+--------------------+--------------------+---------+\n",
      "only showing top 20 rows\n",
      "\n"
     ]
    }
   ],
   "source": [
    "unmatched.show()"
   ]
  },
  {
   "cell_type": "code",
   "execution_count": 32,
   "metadata": {},
   "outputs": [
    {
     "name": "stdout",
     "output_type": "stream",
     "text": [
      "+-------------------+--------------------+--------------------+-------+\n",
      "|   transaction_date|          value_date|            NOTATION| Status|\n",
      "+-------------------+--------------------+--------------------+-------+\n",
      "|2021-11-01 00:25:00|2021-10-30 18:30:...|R/UPI/13051309360...|Matched|\n",
      "|2021-11-01 05:57:00|2021-10-31 18:30:...|R/UPI/13051309735...|Matched|\n",
      "|2021-11-01 09:52:00|2021-10-31 18:30:...|RTGS/UTIBH2130521...|Matched|\n",
      "|2021-11-01 12:29:00|2021-10-31 18:30:...|IMPS 130512021968...|Matched|\n",
      "|2021-11-01 06:25:00|2021-10-31 18:30:...|R/UPI/13051309792...|Matched|\n",
      "|2021-11-01 13:06:00|2021-10-31 18:30:...|UPI/130555786563/...|Matched|\n",
      "|2021-11-01 15:16:00|2021-10-31 18:30:...|IMPS 130515581433...|Matched|\n",
      "|2021-11-01 18:08:00|2021-10-31 18:30:...|IMPS 130518852314...|Matched|\n",
      "|2021-11-01 20:14:00|2021-10-31 18:30:...|NEFT/INDBN0111485...|Matched|\n",
      "|2021-11-01 23:17:00|2021-10-31 18:30:...|IMPS 130523849594...|Matched|\n",
      "|2021-11-02 11:31:00|2021-11-01 18:30:...|R-130611071368-RE...|Matched|\n",
      "|2021-11-02 13:07:00|2021-11-01 18:30:...|R-130613047373-RE...|Matched|\n",
      "|2021-11-01 16:02:00|2021-10-31 18:30:...|NEFT/SBIN32130522...|Matched|\n",
      "|2021-11-01 16:14:00|2021-10-31 18:30:...|RTGS/IBKLH2130560...|Matched|\n",
      "|2021-11-02 18:59:00|2021-11-01 18:30:...|RTGS/ICICH2130614...|Matched|\n",
      "|2021-11-02 19:55:00|2021-11-01 18:30:...|IMPS 130619650378...|Matched|\n",
      "|2021-11-02 17:55:00|2021-11-01 18:30:...|RTGS/HDFCH2130619...|Matched|\n",
      "|2021-11-02 22:43:00|2021-11-01 18:30:...|IMPS 130622355229...|Matched|\n",
      "|2021-11-01 00:26:00|2021-10-30 18:30:...|R/UPI/13051309361...|Matched|\n",
      "|2021-11-01 01:00:00|2021-10-30 18:30:...|R/UPI/13051309458...|Matched|\n",
      "+-------------------+--------------------+--------------------+-------+\n",
      "only showing top 20 rows\n",
      "\n"
     ]
    }
   ],
   "source": [
    "afterfil.show()"
   ]
  },
  {
   "cell_type": "code",
   "execution_count": 33,
   "metadata": {},
   "outputs": [
    {
     "name": "stdout",
     "output_type": "stream",
     "text": [
      "(32, 4)\n"
     ]
    }
   ],
   "source": [
    "print((afterfil.count(), len(afterfil.columns)))"
   ]
  },
  {
   "cell_type": "code",
   "execution_count": 34,
   "metadata": {},
   "outputs": [
    {
     "name": "stdout",
     "output_type": "stream",
     "text": [
      "(168, 4)\n"
     ]
    }
   ],
   "source": [
    "print((unmatched.count(), len(unmatched.columns)))"
   ]
  },
  {
   "cell_type": "code",
   "execution_count": 35,
   "metadata": {},
   "outputs": [
    {
     "name": "stdout",
     "output_type": "stream",
     "text": [
      "(200, 3)\n"
     ]
    }
   ],
   "source": [
    "print((Yesstatements.count(), len(Yesstatements.columns)))"
   ]
  },
  {
   "cell_type": "markdown",
   "metadata": {},
   "source": [
    "# ---------------------------------------------------------------------------------------------------------------------------------"
   ]
  },
  {
   "cell_type": "code",
   "execution_count": 36,
   "metadata": {},
   "outputs": [],
   "source": [
    "#Yesstatements.withColumn(\"MATCHING\",col(\"NOTATION\").rlike(filtered_list.mkString(\"|\"))).show(truncate = false)"
   ]
  },
  {
   "cell_type": "code",
   "execution_count": 37,
   "metadata": {},
   "outputs": [],
   "source": [
    "#Yesstatements.withColumn(\"contains_cat_or_dog\",col(\"phrase\").rlike(animals.mkString(\"|\"))).show(truncate = false)"
   ]
  },
  {
   "cell_type": "markdown",
   "metadata": {},
   "source": [
    "# ------------------------------------------------------------------------------------------------------------------------------"
   ]
  },
  {
   "cell_type": "code",
   "execution_count": 40,
   "metadata": {},
   "outputs": [],
   "source": [
    "from pyspark.sql.types import StructType,StructField, StringType, IntegerType"
   ]
  },
  {
   "cell_type": "code",
   "execution_count": 41,
   "metadata": {},
   "outputs": [],
   "source": [
    "data2 = [(\"James\",\"\",\"Smith\",\"36636\",\"M\",3000,3000),\n",
    "    (\"Michael\",\"Rose\",\"\",\"40288\",\"M\",4000,4500),\n",
    "    (\"Robert\",\"\",\"Williams\",\"42114\",\"M\",4000,4000),\n",
    "    (\"Maria\",\"Anne\",\"Jones\",\"39192\",\"F\",4000,3500),\n",
    "    (\"Jen\",\"Mary\",\"Brown\",\"\",\"F\",-1,4000)\n",
    "  ]"
   ]
  },
  {
   "cell_type": "code",
   "execution_count": 52,
   "metadata": {},
   "outputs": [],
   "source": [
    "schema = StructType([ \\\n",
    "    StructField(\"firstname\",StringType(),True), \\\n",
    "    StructField(\"middlename\",StringType(),True), \\\n",
    "    StructField(\"lastname\",StringType(),True), \\\n",
    "    StructField(\"id\", StringType(), True), \\\n",
    "    StructField(\"gender\", StringType(), True), \\\n",
    "    StructField(\"salary\", StringType(), True), \\\n",
    "    StructField(\"refnum\",StringType(), True) \\\n",
    "  ])"
   ]
  },
  {
   "cell_type": "code",
   "execution_count": 53,
   "metadata": {},
   "outputs": [],
   "source": [
    "testdf=spark.createDataFrame(data2,schema=schema)"
   ]
  },
  {
   "cell_type": "code",
   "execution_count": 55,
   "metadata": {},
   "outputs": [
    {
     "name": "stdout",
     "output_type": "stream",
     "text": [
      "root\n",
      " |-- firstname: string (nullable = true)\n",
      " |-- middlename: string (nullable = true)\n",
      " |-- lastname: string (nullable = true)\n",
      " |-- id: string (nullable = true)\n",
      " |-- gender: string (nullable = true)\n",
      " |-- salary: string (nullable = true)\n",
      " |-- refnum: string (nullable = true)\n",
      "\n"
     ]
    }
   ],
   "source": [
    "testdf.printSchema()"
   ]
  },
  {
   "cell_type": "code",
   "execution_count": 59,
   "metadata": {},
   "outputs": [],
   "source": [
    "#testdf.show(truncate=False)"
   ]
  }
 ],
 "metadata": {
  "interpreter": {
   "hash": "e5030792b3492f6b12d94f1f48beca3d8e59ec05fd59d0aaaa48e684281ed297"
  },
  "kernelspec": {
   "display_name": "Python 3.7.12 64-bit",
   "language": "python",
   "name": "python3"
  },
  "language_info": {
   "codemirror_mode": {
    "name": "ipython",
    "version": 3
   },
   "file_extension": ".py",
   "mimetype": "text/x-python",
   "name": "python",
   "nbconvert_exporter": "python",
   "pygments_lexer": "ipython3",
   "version": "3.7.13"
  },
  "orig_nbformat": 4
 },
 "nbformat": 4,
 "nbformat_minor": 2
}
